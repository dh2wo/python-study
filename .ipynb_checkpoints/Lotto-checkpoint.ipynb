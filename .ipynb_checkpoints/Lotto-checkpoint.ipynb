{
 "cells": [
  {
   "cell_type": "code",
   "execution_count": 2,
   "id": "6b313fa5",
   "metadata": {},
   "outputs": [
    {
     "name": "stdout",
     "output_type": "stream",
     "text": [
      "[4, 10, 14, 17, 26, 39]\n"
     ]
    }
   ],
   "source": [
    "import random # 랜덤모듈 임포트\n",
    "\n",
    "def get_random_number():\n",
    "    number = random.randint(1, 45)\n",
    "    return number #  1~45 난수를뽑아 number에 반환하는 함수 생성.\n",
    "\n",
    "lotto_num = [] # 표준출력 오름차순으로 구하려면 리스트 sort사용.\n",
    "\n",
    "while True: # 조건3: 중복이 나올 수 있으니 6개 뽑기보단 무한루프로 일단 돌리기\n",
    "    random_num = get_random_number() # random_num에 반환된 num 저장\n",
    "    if random_num not in lotto_num: # 그 반환된 num이 리스트에 없다면?\n",
    "        lotto_num.append(random_num) # 리스트에 넣기!\n",
    "    if len(lotto_num) == 6: # 리스트 길이가 6이되면 반복문 탈출\n",
    "        break\n",
    "\n",
    "lotto_num.sort() # 오름차순 정렬\n",
    "\n",
    "print(lotto_num)"
   ]
  }
 ],
 "metadata": {
  "kernelspec": {
   "display_name": "Python 3 (ipykernel)",
   "language": "python",
   "name": "python3"
  },
  "language_info": {
   "codemirror_mode": {
    "name": "ipython",
    "version": 3
   },
   "file_extension": ".py",
   "mimetype": "text/x-python",
   "name": "python",
   "nbconvert_exporter": "python",
   "pygments_lexer": "ipython3",
   "version": "3.9.13"
  }
 },
 "nbformat": 4,
 "nbformat_minor": 5
}
