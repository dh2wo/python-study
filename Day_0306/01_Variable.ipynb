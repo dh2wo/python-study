{
 "cells": [
  {
   "cell_type": "code",
   "execution_count": null,
   "id": "d5f61674",
   "metadata": {},
   "outputs": [],
   "source": [
    "# 표현식(마지막만 보임)\n",
    "10\n",
    "20"
   ]
  },
  {
   "cell_type": "code",
   "execution_count": null,
   "id": "16599d99",
   "metadata": {},
   "outputs": [],
   "source": [
    "# 문장식\n",
    "a = 10\n",
    "print(a)\n",
    "b = 20\n",
    "print(b)"
   ]
  },
  {
   "cell_type": "markdown",
   "id": "50f81d6c",
   "metadata": {},
   "source": [
    "[] : 배열\n",
    "{} : block -> 들여쓰기(중요) , Hashmap -> dictionary\n",
    "() : 함수 == 메소드 선언, 호출, 정의, 수식"
   ]
  },
  {
   "cell_type": "markdown",
   "id": "e0cac098",
   "metadata": {},
   "source": [
    "# 변수와 데이터 입출력"
   ]
  },
  {
   "cell_type": "code",
   "execution_count": null,
   "id": "b1cacc49",
   "metadata": {},
   "outputs": [],
   "source": [
    "a = 10\n",
    "b = 20\n",
    "\n",
    "#print(출력내용 [,sep=구분자] [,end=끝 문자])\n",
    "print(a+b, b, sep=\", \", end=\"\\t\")\n",
    "print(1, 2, 3, 4)"
   ]
  },
  {
   "cell_type": "code",
   "execution_count": null,
   "id": "9bdb08ee",
   "metadata": {},
   "outputs": [],
   "source": [
    "age = input('몇 살이세요? ')\n",
    "print(age)"
   ]
  },
  {
   "cell_type": "code",
   "execution_count": null,
   "id": "423d36c2",
   "metadata": {},
   "outputs": [],
   "source": [
    "x = 10\n",
    "y = 3.14\n",
    "addr1 = '서울시 강남구 역삼동'\n",
    "addr2 = \"광주시 광산\"\n",
    "addr3 = '''제주시'''\n",
    "print(x, y, addr1, addr2, addr3)"
   ]
  },
  {
   "cell_type": "code",
   "execution_count": null,
   "id": "0dd3529e",
   "metadata": {},
   "outputs": [],
   "source": [
    "print(type(x))\n",
    "print(type(y))\n",
    "print(type(addr1))\n",
    "print(type(addr2))\n",
    "print(type(addr3))"
   ]
  },
  {
   "cell_type": "code",
   "execution_count": null,
   "id": "e56d2ae5",
   "metadata": {},
   "outputs": [],
   "source": [
    "# Kim's Bakery\n",
    "name = \"Kim's Bakery\"\n",
    "print(name)"
   ]
  },
  {
   "cell_type": "code",
   "execution_count": null,
   "id": "5caa3f19",
   "metadata": {},
   "outputs": [],
   "source": [
    "# ''' 여러 줄 문자 '''\n",
    "temp = '''\n",
    "동해물과\n",
    "백두산이\n",
    "마르고 닳도록\n",
    "'''\n",
    "print(temp)"
   ]
  },
  {
   "cell_type": "code",
   "execution_count": 12,
   "id": "58b1e1e2",
   "metadata": {},
   "outputs": [
    {
     "name": "stdout",
     "output_type": "stream",
     "text": [
      "몇 년생이세요? 1997\n",
      "당신의 나이는 26살 입니다.\n"
     ]
    }
   ],
   "source": [
    "# [문제] 몇년생이세요? 입력받아 나이를 계산해서 출력하시오\n",
    "birthyear = input(\"몇 년생이세요? \") # 키보드로부터 입력받은 모든 데이터는 문자열이다!\n",
    "birthyear = int(birthyear) # int 형변환\n",
    "year = 2023\n",
    "print('당신의 나이는 ', (year - birthyear), '살 입니다.', sep=\"\")"
   ]
  },
  {
   "cell_type": "markdown",
   "id": "bffd64ab",
   "metadata": {},
   "source": [
    "# 2. 리터럴과 연산자"
   ]
  },
  {
   "cell_type": "code",
   "execution_count": 15,
   "id": "be97d262",
   "metadata": {},
   "outputs": [
    {
     "name": "stdout",
     "output_type": "stream",
     "text": [
      "3\n",
      "8\n",
      "15\n"
     ]
    }
   ],
   "source": [
    "# 2진수(b), 8진수(o), 16진수(x)\n",
    "#.. 16 8 4 2 1 (끝자리가 1이면 무조건 홀수 -> LSB) <-> MSB?\n",
    "x = 0b11\n",
    "print(x)\n",
    "\n",
    "y = 0o10 #3자리 씩\n",
    "print(y)\n",
    "\n",
    "z = 0xf#4자리 씩\n",
    "print(z)"
   ]
  },
  {
   "cell_type": "code",
   "execution_count": 12,
   "id": "229bc63d",
   "metadata": {},
   "outputs": [
    {
     "name": "stdout",
     "output_type": "stream",
     "text": [
      "(4+6j)\n",
      "(1-2j)\n"
     ]
    }
   ],
   "source": [
    "# 복소수형 = 실수부 + 허수부j (사용은X)\n",
    "a = 1 + 2j\n",
    "b = 3 + 4j\n",
    "print(a + b)\n",
    "print(a.conjugate()) #복소수의 켤레복소수"
   ]
  },
  {
   "cell_type": "code",
   "execution_count": 17,
   "id": "21c763eb",
   "metadata": {},
   "outputs": [
    {
     "name": "stdout",
     "output_type": "stream",
     "text": [
      "koreajapan2002\n",
      "koreajapan2002\n"
     ]
    }
   ],
   "source": [
    "# stringmerge : 문자열 합치기\n",
    "s = \"korea\" \"japan\" \"2002\"\n",
    "print(s)\n",
    "\n",
    "# multiline : 여러 개의 문자열을 개행해서 긴 문자열로 만들고 싶다면 ()\n",
    "s2 = (\"korea\" \"japan\" \"2002\")\n",
    "print(s2)"
   ]
  },
  {
   "cell_type": "code",
   "execution_count": 29,
   "id": "0a4726d6",
   "metadata": {},
   "outputs": [
    {
     "name": "stdout",
     "output_type": "stream",
     "text": [
      "97\n",
      "b\n",
      "ABCDEFGHIJKLMNOPQRSTUVWXYZ"
     ]
    }
   ],
   "source": [
    "# ord/chr\n",
    "print(ord('a')) #문자를 숫자로\n",
    "print(chr(98))  #숫자를 문자로\n",
    "for c in range(ord('A'), ord('Z') + 1):\n",
    "    print(chr(c), end='')"
   ]
  },
  {
   "cell_type": "code",
   "execution_count": 49,
   "id": "f026f8ce",
   "metadata": {},
   "outputs": [
    {
     "name": "stdout",
     "output_type": "stream",
     "text": [
      "알파벳 소문자를 입력하세요 : a\n",
      "결과 :  A\n"
     ]
    }
   ],
   "source": [
    " # [문제] 소문자(알파벳)을 입력받아 대문자로 변환하는 코드를 작성하시오\n",
    "data = input(\"알파벳 소문자를 입력하세요 : \")\n",
    "result = ord(data) - 32\n",
    "print('결과 : ', chr(result))"
   ]
  }
 ],
 "metadata": {
  "kernelspec": {
   "display_name": "Python 3 (ipykernel)",
   "language": "python",
   "name": "python3"
  },
  "language_info": {
   "codemirror_mode": {
    "name": "ipython",
    "version": 3
   },
   "file_extension": ".py",
   "mimetype": "text/x-python",
   "name": "python",
   "nbconvert_exporter": "python",
   "pygments_lexer": "ipython3",
   "version": "3.9.13"
  }
 },
 "nbformat": 4,
 "nbformat_minor": 5
}
