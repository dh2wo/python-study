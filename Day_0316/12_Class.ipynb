{
 "cells": [
  {
   "cell_type": "markdown",
   "id": "a72d57a3",
   "metadata": {},
   "source": [
    "# 클래스 p328\n",
    "- 객체 지향 (Object Orientied)\n",
    "    - 객체가 프로그래밍의 중심임을 나타내는 용어\n",
    "\n",
    "- 객체지량 언어가 가져야 하는 특징\n",
    "    - 관련된 데이터와 기능을 하나의 묶음으로 처리\n",
    "    - 캡슐화, 정보은닉(Information Hiding), 상속(Inheritance) => 기능 확장 extends,\n",
    "      다형성(Polymorphysm)\n",
    "    - 추상화(다른 언어에도 있어 객체지향 특징이라고 보기는X)\n",
    "\n",
    "- 캡슐화(Encapsulation) : 관련있는 데이터(속성)와 기능(함수)를 하나로 묶은 것\n",
    "   - clss 이름:\n",
    "        데이터..\n",
    "        함수..\n",
    "        \n",
    "- 작성된 객체는 반드시! 메모리에 올리는 작업을 해야한다. ==> 생성한다!\n",
    "- 생성자(Constructor) : 생성을 전담하는 함수 '__init__()'\n",
    "- 생성 할 때 멤버 변수에 초기값을 지정할 수 있다."
   ]
  },
  {
   "cell_type": "code",
   "execution_count": null,
   "id": "edcea77e",
   "metadata": {},
   "outputs": [],
   "source": [
    "# capsule\n",
    "balance = 8000  # 전역변수\n",
    "\n",
    "\n",
    "def deposit(money):\n",
    "    global balance  # balance 변수가 전역공간에 만들어진 변수임을 나타냄\n",
    "    balance += money  # 지역변수 # 연산하면 지역변수\n",
    "\n",
    "\n",
    "def inquire():\n",
    "    print('잔액은 %d원 입니다.' % balance)  # 연산안하면 전역변수\n",
    "\n",
    "\n",
    "inquire()\n",
    "deposit(2000)\n",
    "inquire()"
   ]
  },
  {
   "cell_type": "code",
   "execution_count": null,
   "id": "4f222059",
   "metadata": {},
   "outputs": [],
   "source": [
    "# 클래스를 선언!\n",
    "class Acocount:\n",
    "    def __init__(self):  # Constructor # 모든 메서드는 self를 가지는 규칙! (this 같은것)\n",
    "        self.balance = 0\n",
    "\n",
    "    def deposit(self, money):  # self를 맨앞(*)에 써야 클래스 인식\n",
    "        self.balance += money  # 지역변수 # 연산하면 지역변수\n",
    "\n",
    "    def inquire(self):\n",
    "        print('잔액은 %d원 입니다.' % self.balance)  # 연산안하면 전역변수"
   ]
  },
  {
   "cell_type": "code",
   "execution_count": null,
   "id": "e6a9fdf8",
   "metadata": {},
   "outputs": [],
   "source": [
    "a = Acocount()  # 객체 생성, 생성자가 자동 호출\n",
    "b = Acocount()\n",
    "\n",
    "a.deposit(1000)\n",
    "a.inquire()\n",
    "\n",
    "b.deposit(5000)\n",
    "b.inquire()"
   ]
  },
  {
   "cell_type": "code",
   "execution_count": null,
   "id": "a1e9a0fd",
   "metadata": {},
   "outputs": [],
   "source": [
    "# [연습] 이름, 키, 몸무게, BMI, status\n",
    "class Fitness:\n",
    "    def __init__(self, name, height, weight):\n",
    "        self.name = name\n",
    "        self.height = height\n",
    "        self.weight = weight\n",
    "        self.bmi = self.weight / (self.height * 0.01) ** 2\n",
    "        if  self.bmi >= 35:\n",
    "            self.staus = \"비만\"\n",
    "        elif self.bmi >= 30:\n",
    "            self.staus = \"중도비만\"\n",
    "        elif self.bmi >= 25:\n",
    "            self.staus = \"경도비만\"\n",
    "        elif self.bmi >= 23:\n",
    "            self.staus = \"과체중\"\n",
    "        elif self.bmi >= 18.5:\n",
    "            self.staus = \"정상\"\n",
    "        else:\n",
    "            self.staus = \"저체중\"\n",
    "    \n",
    "    def output(self):\n",
    "        print(f'이름 : {self.name}, 키 : {self.height}, 몸무게 : {self.weight}, BMI : {self.bmi:.2f}, 상태 : {self.staus}')\n",
    "        \n",
    "a = Fitness('홍길동', 180, 80)\n",
    "a.output()"
   ]
  },
  {
   "cell_type": "code",
   "execution_count": 1,
   "id": "35afb504",
   "metadata": {},
   "outputs": [
    {
     "data": {
      "text/plain": [
       "'제목 : 파이썬 정복, 저자 : 김상형, 정가 : 22000원'"
      ]
     },
     "execution_count": 1,
     "metadata": {},
     "output_type": "execute_result"
    }
   ],
   "source": [
    "# BooK : 타이틀, 저자, 정가\n",
    "class Book:\n",
    "    def __init__(self, title, author, price):\n",
    "        self.title = title\n",
    "        self.author = author\n",
    "        self.price = price\n",
    "\n",
    "    def tostring(self):\n",
    "        temp = (f'제목 : {self.title}, 저자 : {self.author}, 정가 : {self.price}원')\n",
    "        # temp = '제목 : %s, 저자 : %s, 정가 : %d원' % (self.title, self.author, self.price)\n",
    "        return temp\n",
    "\n",
    "\n",
    "python = Book('파이썬 정복', '김상형', 22000)\n",
    "python.tostring()"
   ]
  },
  {
   "cell_type": "code",
   "execution_count": null,
   "id": "28de1d0d",
   "metadata": {},
   "outputs": [],
   "source": [
    "# [문제] 위에서 선언한 Book을 이용. hanbit변수가 리스트로 선언하고, 여러 개의 책의 정보를 넣는다.\n",
    "hanbit = []\n",
    "hanbit.append(Book('파이썬 정복', '김상형', 22000))\n",
    "hanbit.append(Book('자바 정복', '홍길동', 30000))\n",
    "hanbit.append(Book('HTML 정복', '임꺽정', 15000))\n",
    "\n",
    "for book in hanbit:\n",
    "    print(book.tostring())"
   ]
  },
  {
   "cell_type": "code",
   "execution_count": 2,
   "id": "cc1094a1",
   "metadata": {},
   "outputs": [],
   "source": [
    "# 새롭게 정의 ==> BooKSale : 타이틀, 저자, 정가, 할인가\n",
    "class BooKSale:\n",
    "    def __init__(self, title, author, price, saleraio):\n",
    "        self.title = title\n",
    "        self.author = author\n",
    "        self.price = price\n",
    "        # 할인률\n",
    "        self.saleraio = int(self.price * ((100 - saleraio) * 0.01))\n",
    "        \n",
    "        \n",
    "    def tostring(self):\n",
    "        temp = (f'제목 : {self.title}, 저자 : {self.author}, 정가 : {self.price}원, 할인가 : {self.saleraio}')\n",
    "        return temp"
   ]
  },
  {
   "cell_type": "code",
   "execution_count": null,
   "id": "5d955d2e",
   "metadata": {},
   "outputs": [],
   "source": [
    "# [문제] 위에서 선언한 Book을 이용. hanbit변수가 리스트로 선언하고, 여러 개의 책의 정보를 넣는다.\n",
    "hanbit = []\n",
    "hanbit.append(BooKSale('파이썬 정복', '김상형', 22000, 10))\n",
    "hanbit.append(BooKSale('자바 정복', '홍길동', 30000, 15))\n",
    "hanbit.append(BooKSale('HTML 정복', '임꺽정', 15000, 8))\n",
    "\n",
    "for book in hanbit:\n",
    "    print(book.tostring())"
   ]
  },
  {
   "cell_type": "code",
   "execution_count": null,
   "id": "c24ac502",
   "metadata": {},
   "outputs": [],
   "source": [
    "# 상속 p333\n",
    "# 상위클래스 == 수퍼클래스 == 부모클래스 (상속 하는)\n",
    "# 하위클래스 == 서브클래스 == 자식클래스 ==  파생클래스 (상속 받는)\n",
    "# 부모를 생성하고 난후 자식이 생성된다! 메모리에서 사라질때는 자식->부모 순서\n",
    "\n",
    "class 하위클래스(상위클래스):\n",
    "    super().xxx()"
   ]
  },
  {
   "cell_type": "code",
   "execution_count": null,
   "id": "054d8b07",
   "metadata": {},
   "outputs": [],
   "source": [
    "# 새롭게 정의 ==> BooKSale : 타이틀, 저자, 정가, 할인가\n",
    "class BooKSale(Book):\n",
    "    def __init__(self, title, author, price, saleraio):\n",
    "        super().__init__(title, author, price)\n",
    "        # 할인률\n",
    "        self.saleraio = int(self.price * ((100 - saleraio) * 0.01))\n",
    "        \n",
    "        \n",
    "    def tostring(self):\n",
    "        t = super().tostring()\n",
    "        temp = (f'{t}, 할인가 : {self.saleraio}')\n",
    "        return temp"
   ]
  },
  {
   "cell_type": "code",
   "execution_count": 9,
   "id": "57a1ac54",
   "metadata": {},
   "outputs": [
    {
     "name": "stdout",
     "output_type": "stream",
     "text": [
      "** 한빛미디어\n",
      "\t 제목 : 파이썬 정복, 저자 : 김상형, 정가 : 22000원, 할인가 : 19800\n",
      "\t 제목 : 자바 정복, 저자 : 홍길동, 정가 : 30000원, 할인가 : 25500\n",
      "** 이지스퍼블리싱\n",
      "\t 제목 : 파이썬 정복, 저자 : 김상형, 정가 : 22000원, 할인가 : 19800\n",
      "\t 제목 : 자바 정복, 저자 : 홍길동, 정가 : 30000원, 할인가 : 25500\n"
     ]
    }
   ],
   "source": [
    "# 딕셔너리를 이용하여 bookstore = {'한빛미디어' : [북 세일 객체2개], '이지스퍼블리싱' : [북 세일 객체2개]}\n",
    "bookstore = dict()\n",
    "\n",
    "bookstore['한빛미디어'] = [BooKSale('파이썬 정복', '김상형', 22000, 10), BooKSale('자바 정복', '홍길동', 30000, 15)]\n",
    "bookstore['이지스퍼블리싱'] = [BooKSale('파이썬 정복', '김상형', 22000, 10), BooKSale('자바 정복', '홍길동', 30000, 15)]\n",
    "\n",
    "publishers = list(bookstore.keys()) # ['한빛미디어', '이지퍼블리싱']\n",
    "for publisher in publishers:\n",
    "    print('**', publisher)\n",
    "    for book in bookstore[publisher]:\n",
    "        print('\\t', book.tostring())"
   ]
  },
  {
   "cell_type": "code",
   "execution_count": 10,
   "id": "16a6ca6e",
   "metadata": {},
   "outputs": [
    {
     "ename": "AttributeError",
     "evalue": "'Date' object has no attribute 'month'",
     "output_type": "error",
     "traceback": [
      "\u001b[1;31m---------------------------------------------------------------------------\u001b[0m",
      "\u001b[1;31mAttributeError\u001b[0m                            Traceback (most recent call last)",
      "\u001b[1;32m~\\AppData\\Local\\Temp\\ipykernel_7204\\1417653438.py\u001b[0m in \u001b[0;36m<module>\u001b[1;34m\u001b[0m\n\u001b[0;32m     12\u001b[0m \u001b[0mtoday\u001b[0m \u001b[1;33m=\u001b[0m \u001b[0mDate\u001b[0m\u001b[1;33m(\u001b[0m\u001b[1;36m8\u001b[0m\u001b[1;33m)\u001b[0m\u001b[1;33m\u001b[0m\u001b[1;33m\u001b[0m\u001b[0m\n\u001b[0;32m     13\u001b[0m \u001b[0mtoday\u001b[0m\u001b[1;33m.\u001b[0m\u001b[0minner_month\u001b[0m \u001b[1;33m=\u001b[0m \u001b[1;36m15\u001b[0m\u001b[1;33m\u001b[0m\u001b[1;33m\u001b[0m\u001b[0m\n\u001b[1;32m---> 14\u001b[1;33m \u001b[0mprint\u001b[0m\u001b[1;33m(\u001b[0m\u001b[0mtoday\u001b[0m\u001b[1;33m.\u001b[0m\u001b[0mmonth\u001b[0m\u001b[1;33m)\u001b[0m\u001b[1;33m\u001b[0m\u001b[1;33m\u001b[0m\u001b[0m\n\u001b[0m",
      "\u001b[1;31mAttributeError\u001b[0m: 'Date' object has no attribute 'month'"
     ]
    }
   ],
   "source": [
    "# 엑세서 p338\n",
    "class Date:\n",
    "    def __init__(self, month):\n",
    "        self.inner_month = month\n",
    "        @property # Getter\n",
    "        def month(self):\n",
    "            return self.inner_month\n",
    "        @month.setter # Setter\n",
    "        def month(self, month):\n",
    "            if i1 <= month <=12:\n",
    "                self.inner_month = month\n",
    "today = Date(8)\n",
    "today.inner_month = 15\n",
    "print(today.month)"
   ]
  },
  {
   "cell_type": "code",
   "execution_count": 26,
   "id": "055a4d65",
   "metadata": {},
   "outputs": [
    {
     "name": "stdout",
     "output_type": "stream",
     "text": [
      "차종 : 아반떼\n",
      "1대 판매\n",
      "차종 : 쏘나타\n",
      "2대 판매\n"
     ]
    }
   ],
   "source": [
    "# 클래스 멤버와 클래스 메서드\n",
    "class Car:\n",
    "    count = 0  # 클래스 멤버 (self가 붙지 않는다)\n",
    "\n",
    "    def __init__(self, name):\n",
    "        self.name = name\n",
    "        Car.count += 1\n",
    "\n",
    "    def tostring(self):\n",
    "        return ('차종 : ' + self.name)\n",
    "\n",
    "    @classmethod\n",
    "    def printcnt(cls):\n",
    "        print(str(cls.count) + '대 판매')\n",
    "\n",
    "\n",
    "hong = Car('아반떼')\n",
    "print(hong.tostring())\n",
    "Car.printcnt()\n",
    "\n",
    "kim = Car('쏘나타')\n",
    "print(kim.tostring())\n",
    "Car.printcnt()"
   ]
  },
  {
   "cell_type": "code",
   "execution_count": 41,
   "id": "60d9a28f",
   "metadata": {},
   "outputs": [
    {
     "name": "stdout",
     "output_type": "stream",
     "text": [
      "오늘도 신호 준수!\n",
      "1대 판매\n"
     ]
    }
   ],
   "source": [
    "# 클래스 멤버와 클래스 메서드\n",
    "class Car:\n",
    "    count = 0 # 클래스 멤버 (self가 붙지 않는다)\n",
    "\n",
    "    def __init__(self, name):\n",
    "        self.name = name\n",
    "        Car.count += 1\n",
    "#         self.count += 1 (윗줄 처림, self를 붙히면 안됨)\n",
    "\n",
    "    def tostring(self):\n",
    "        return ('차종 : ' + self.name)\n",
    "\n",
    "    @staticmethod\n",
    "    def hello():\n",
    "        print('오늘도 신호 준수!')\n",
    "\n",
    "    @classmethod\n",
    "    def printcnt(cls):\n",
    "        print(str(cls.count) + '대 판매')\n",
    "\n",
    "# Car.printcnt()  # 클래스 메소드이거나, 정적메소드\n",
    "# Car.hello()\n",
    "\n",
    "hong = Car('아반떼')\n",
    "# print(hong.tostring())\n",
    "# Car.printcnt()\n",
    "\n",
    "# 정적메소드나 클래스메소드를 객체의 레퍼런스 변수를 통해 접근 가능\n",
    "hong.hello()\n",
    "hong.printcnt()\n",
    "\n",
    "# kim = Car('쏘나타')\n",
    "# print(kim.tostring())\n",
    "# Car.printcnt()"
   ]
  },
  {
   "cell_type": "code",
   "execution_count": null,
   "id": "9b9d706e",
   "metadata": {},
   "outputs": [],
   "source": []
  },
  {
   "cell_type": "code",
   "execution_count": null,
   "id": "836b1231",
   "metadata": {},
   "outputs": [],
   "source": []
  },
  {
   "cell_type": "code",
   "execution_count": null,
   "id": "08347463",
   "metadata": {},
   "outputs": [],
   "source": []
  },
  {
   "cell_type": "code",
   "execution_count": null,
   "id": "f64508bb",
   "metadata": {},
   "outputs": [],
   "source": []
  },
  {
   "cell_type": "code",
   "execution_count": null,
   "id": "adb7a38e",
   "metadata": {},
   "outputs": [],
   "source": []
  }
 ],
 "metadata": {
  "kernelspec": {
   "display_name": "Python 3 (ipykernel)",
   "language": "python",
   "name": "python3"
  },
  "language_info": {
   "codemirror_mode": {
    "name": "ipython",
    "version": 3
   },
   "file_extension": ".py",
   "mimetype": "text/x-python",
   "name": "python",
   "nbconvert_exporter": "python",
   "pygments_lexer": "ipython3",
   "version": "3.9.13"
  },
  "toc": {
   "base_numbering": 1,
   "nav_menu": {},
   "number_sections": true,
   "sideBar": true,
   "skip_h1_title": false,
   "title_cell": "Table of Contents",
   "title_sidebar": "Contents",
   "toc_cell": false,
   "toc_position": {},
   "toc_section_display": true,
   "toc_window_display": false
  }
 },
 "nbformat": 4,
 "nbformat_minor": 5
}
