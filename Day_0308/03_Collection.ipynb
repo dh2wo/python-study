{
 "cells": [
  {
   "cell_type": "markdown",
   "id": "544b7538",
   "metadata": {},
   "source": [
    "# 문자열 관리 p172"
   ]
  },
  {
   "cell_type": "code",
   "execution_count": 3,
   "id": "02cd8aa8",
   "metadata": {},
   "outputs": [
    {
     "name": "stdout",
     "output_type": "stream",
     "text": [
      "길이 :  31\n",
      "I have a dream. A song to sing!\n",
      "I have a dream\n",
      "I have a dream\n",
      "A song to sing!\n",
      "A song to sing\n",
      "A song to sing!\n"
     ]
    }
   ],
   "source": [
    "data = \"I have a dream. A song to sing!\"\n",
    "print('길이 : ', len(data))\n",
    "\n",
    "# 슬라이싱\n",
    "#offset : 상대경로 <> 절대경로\n",
    "temp = data[:]\n",
    "print(temp)\n",
    "temp = data[0:14]\n",
    "print(temp)\n",
    "temp = data[:14]\n",
    "print(temp)\n",
    "temp = data[16:]\n",
    "print(temp)\n",
    "temp = data[16:-1]\n",
    "print(temp)\n",
    "temp = data[16:len(data)]\n",
    "print(temp)"
   ]
  },
  {
   "cell_type": "code",
   "execution_count": 4,
   "id": "b2202987",
   "metadata": {},
   "outputs": [
    {
     "name": "stdout",
     "output_type": "stream",
     "text": [
      "I have a dream. A song to sing!\n",
      "2124171646576\n",
      "2124171646576\n",
      "I have a dream. A song to sing!\n",
      "A song to sing\n",
      "2124171637808\n",
      "I\n",
      "A\n",
      "2124095433968\n",
      "2124095656368\n"
     ]
    }
   ],
   "source": [
    "data = \"I have a dream. A song to sing!\"\n",
    "print(data)\n",
    "print(id(data)) # id : 시작주소 출력\n",
    "\n",
    "temp = data[:]\n",
    "print(id(temp)) #슬라이싱해도 주소값이 같다\n",
    "temp = data\n",
    "print(temp) #슬라이싱, 대입은 차이가 없다\n",
    "\n",
    "temp = data[16:-1] \n",
    "print(temp)\n",
    "print(id(temp)) #temp의 (200?)번지의 주소\n",
    "\n",
    "# \n",
    "print(data[0])\n",
    "print(temp[0])\n",
    "print(id(data[0]))\n",
    "print(id(data[1]))"
   ]
  },
  {
   "cell_type": "markdown",
   "id": "fbfed2d4",
   "metadata": {},
   "source": [
    "# 문자열 관련 함수\n",
    "capitalize() 첫번째 단어를 대문자로\n",
    "lower() 모든 글자를 소문자로\n",
    "title() 모든 단어의 첫 글자를 대문자로 변환\n",
    "upper() 모든 글자를 대문자로\n",
    "swapcase() 대문자는 소문자로, 소문자는 대문자로\n",
    "count(문자열) 해당 문자열이 몇개 있는지 출력\n",
    "len(문자열) 문자열의 길이를 센다 * 중요 \n",
    "endswidth(문자열) 지정된 문자열로 끝나는지 여부 출력(True, False)\n",
    "startswidth(문자열) 지정된 문자열로 시작하는지 여부 출력(True, False)\n",
    "find(문자열) 지정된 문자열의 오프셋 값 리턴 * 중요\n",
    "format() 출력 시 포맷을 지정할 수 있다. * 중요\n",
    "구분문자.join(list) 문자열 리스트를 하나의 문자열로 결합 * 중요\n",
    "replace(원본 문자열, 바꿀문자열 [, 바꿀횟수]) 문자열을 지정한 문자열로 바꿈\n",
    "rfind(문자열) 지정 문자열을 오른쪽에서 찾아서 출력\n",
    "center(숫자) 문자열을 지정한 공간에서 중앙에 배치\n",
    "ljust(숫자) 문자열을 지정한 공간에서 왼쪽에 배치\n",
    "rjust(숫자) 문자열을 지정한 공간에서 오른쪽에 배치\n",
    "split(구분자) 구분자를 기준으로 하나의 문자열을 리스트로나눔, 구분자 없이 사용하면 기본 구분자(공백, 줄나눔, 탭 사용) * 중요\n",
    "str(데이터) 괄호안의 모든 데이터를 문자열로 바꾼다. *중요\n",
    "strip(문자열) 문자열의 맨 앞과 맨 뒤에 지정 문자열을 삭제\n",
    "rtrip(문자열) 문자열의 맨 뒤에 White Space 삭제할 때 주로 사용\n",
    "ltrip(문자열) 문자열의 맨 앞에 White Space 삭제할 때 주로 사용"
   ]
  },
  {
   "cell_type": "code",
   "execution_count": 5,
   "id": "e06f711c",
   "metadata": {},
   "outputs": [
    {
     "name": "stdout",
     "output_type": "stream",
     "text": [
      "31\n",
      "9\n",
      "-1\n",
      "['I have a dream', ' A song to sing!']\n",
      "['초콜릿/12000', ' 샴페인/25000', ' 장미꽃/30000']\n"
     ]
    }
   ],
   "source": [
    "# 1) len() : 길이를 구함\n",
    "data = \"I have a dream. A song to sing!\"\n",
    "print(len(data))\n",
    "\n",
    "# 2) find() : 왼쪽에서부터 검색하여 찾은 데이터의 index를 반환\n",
    "finded = data.find(\"dream\")\n",
    "print(finded)\n",
    "\n",
    "finded = data.find(\"?\")\n",
    "print(finded)\n",
    "\n",
    "# split() : 데이터를 토큰화 시킴 -> 리스트로 담긴다\n",
    "data = \"I have a dream. A song to sing!\"\n",
    "mylist = data.split() # 공백이 구분자\n",
    "mylist = data.split(\".\")\n",
    "print(mylist)\n",
    "\n",
    "data = \"초콜릿/12000, 샴페인/25000, 장미꽃/30000\"\n",
    "mylist = data.split(\",\")\n",
    "print(mylist)"
   ]
  },
  {
   "cell_type": "code",
   "execution_count": 1,
   "id": "f879d1ed",
   "metadata": {},
   "outputs": [
    {
     "name": "stdout",
     "output_type": "stream",
     "text": [
      "총 비용 :  67000\n"
     ]
    }
   ],
   "source": [
    "# [문제] split을 이용해 사용한 전체 비용을 구하여 출력하시오\n",
    "data = \"초콜릿/12000, 샴페인/25000, 장미꽃/30000\"\n",
    "mylist = data.split(\",\")\n",
    "\n",
    "total = 0\n",
    "for item in mylist:\n",
    "    total += int(item.split(\"/\")[1])\n",
    "    \n",
    "print(\"총 비용 : \", total)"
   ]
  },
  {
   "cell_type": "code",
   "execution_count": null,
   "id": "38f265b8",
   "metadata": {},
   "outputs": [],
   "source": [
    "# 문자열 대입\n",
    "# %[-]폭[.유효자리수]서식\n",
    "# 별도의 폭 지정이 없으면 변수의 자리 수만큼 차지하지만 폭을 지정하면 최소 지정된 만큼 폭을 확보한다.\n",
    "value = 123\n",
    "print(\"###%d###\" % value)\n",
    "print(\"###%5d###\" % value)\n",
    "print(\"###%10d###\" % value)\n",
    "print(\"###%-10d###\" % value)\n",
    "print(\"###%1d###\" % value)\n",
    "print()\n",
    "\n",
    "pie = 3.14159265\n",
    "print(\"%10f\" % pie)\n",
    "print(\"%10.8f\" % pie)\n",
    "print(\"%10.5f\" % pie)\n",
    "print(\"%10.2f\" % pie)\n",
    "result = \"%.2f\" % pie\n",
    "print(result, type(result)) #포맷은 스트링으로 반환"
   ]
  },
  {
   "cell_type": "markdown",
   "id": "bf6a57ab",
   "metadata": {},
   "source": [
    "#기능은 비슷하지만 다르다\n",
    "len(data)       # function (전역)\n",
    "data.split(\" \") # method (지역)"
   ]
  },
  {
   "cell_type": "code",
   "execution_count": 6,
   "id": "7fdf1109",
   "metadata": {},
   "outputs": [
    {
     "name": "stdout",
     "output_type": "stream",
     "text": [
      "1,234,567,890\n",
      "1,234,567,890.000000\n",
      "1,234,567,890\n",
      "12,345.678900\n",
      "12,345.6789\n"
     ]
    }
   ],
   "source": [
    "# 포맷팅 1\n",
    "value = 1234567890\n",
    "print(format(value, ',d'))\n",
    "print(format(value, ',f'))\n",
    "print(format(value, ','))\n",
    "\n",
    "value = 12345.67890\n",
    "print(format(value, ',f'))\n",
    "#print(format(value, ',d')) #실수를 정수로 출력X\n",
    "print(format(value, ','))"
   ]
  },
  {
   "cell_type": "code",
   "execution_count": null,
   "id": "70193bb9",
   "metadata": {},
   "outputs": [],
   "source": [
    "# 포맷팅 2(*)\n",
    "name = '한결'\n",
    "age = 16\n",
    "height = 162.5\n",
    "print('이름 : {}, 나이 : {}, 키 : {}'.format(name, age, height))\n",
    "# {} 괄호안에 0 부터 시작하는 순서 값을 지정할 수도 있다.\n",
    "print('이름 : {2}, 나이 : {0}, 키 : {1}'.format(age, height, name))"
   ]
  },
  {
   "cell_type": "markdown",
   "id": "370c17aa",
   "metadata": {},
   "source": [
    "# List p197"
   ]
  },
  {
   "cell_type": "code",
   "execution_count": 7,
   "id": "1cc201a9",
   "metadata": {
    "scrolled": false
   },
   "outputs": [
    {
     "name": "stdout",
     "output_type": "stream",
     "text": [
      "요소의 개수 :  5\n",
      "1 2 3 4 5 \n",
      "3\n",
      "5\n",
      "2124171677952\n",
      "2124171677952\n",
      "[1, 2, 3, 4, 5]\n",
      "[1, 3]\n",
      "[1, 2, 3, 4]\n",
      "[2, 3, 4, 5]\n",
      "2124171677952\n"
     ]
    }
   ],
   "source": [
    "mylist = [1, 2, 3, 4, 5]\n",
    "print(\"요소의 개수 : \", len(mylist))\n",
    "\n",
    "for item in mylist:\n",
    "    print(item, sep = \" \", end = \" \")\n",
    "print()\n",
    "    \n",
    "print(mylist[2])\n",
    "print(mylist[-1])\n",
    "print(id(mylist)) \n",
    "temp = mylist # 얕은 복사 -> 주소가 같다\n",
    "print(id(temp))\n",
    "\n",
    "# 리스트 슬라이싱\n",
    "print(mylist[:])\n",
    "print(mylist[0:3:2])\n",
    "print(mylist[:-1])\n",
    "print(mylist[1:])\n",
    "\n",
    "temp = mylist[:] # 깊은 복사 ==> sting이랑 다른점 -> 주소가 다르다\n",
    "print(id(mylist)) "
   ]
  },
  {
   "cell_type": "markdown",
   "id": "bdc354c8",
   "metadata": {},
   "source": [
    "List 관련 함수(*)\n",
    "append() 리스트 뒤에 데이터 추가\n",
    "insert(위치, 데이터) 지정된 위치에 데이터를 삽입\n",
    "sort() 리스트 정렬 \n",
    "reverse() 리스트 요소순서를 뒤집는다. 역순으로 정렬하기 위해서는 reverse=True 옵션\n",
    "index() 특정 요소의 위치 값 반환\n",
    "pop() 마지막 요소 리턴후 삭제\n",
    "count(요소값) 특정 요소의 개수세기\n",
    "extend(리스트) 원래의 리스트를 매개변수로 전달한 리스트와 합쳐서 확장\n",
    "len(리스트) 리스트의 요소의 개수를 구함"
   ]
  },
  {
   "cell_type": "code",
   "execution_count": 10,
   "id": "01eec689",
   "metadata": {},
   "outputs": [
    {
     "name": "stdout",
     "output_type": "stream",
     "text": [
      "[9, 7, 6, 5, 1, 1]\n"
     ]
    },
    {
     "data": {
      "text/plain": [
       "[1, 1, 5, 6, 7, 9]"
      ]
     },
     "execution_count": 10,
     "metadata": {},
     "output_type": "execute_result"
    }
   ],
   "source": [
    "# 함수\n",
    "mylist = [6, 5 ,7 , 1, 9, 1]\n",
    "mylist.sort(reverse = True) # 메소드\n",
    "print(mylist)\n",
    "sorted(mylist) # 함수"
   ]
  },
  {
   "cell_type": "code",
   "execution_count": 1,
   "id": "1d357a18",
   "metadata": {},
   "outputs": [
    {
     "name": "stdout",
     "output_type": "stream",
     "text": [
      "정수 : 1\n",
      "정수 : 2\n",
      "정수 : 3\n",
      "정수 : 0\n",
      "\n",
      "리스트 :  [1, 2, 3]\n",
      "크기 :  3\n",
      "합계 :  6\n"
     ]
    }
   ],
   "source": [
    "## [문제] 비어있는 리스트를 하나 생성. 데이터를 입력받아 리스트 추가\n",
    "#         0이 입력되면 입력중지. 리스트의 크기와 합계를 출력\n",
    "mylist = []\n",
    "\n",
    "while True:\n",
    "    num = int(input(\"정수 : \"))\n",
    "    if num != 0:\n",
    "        mylist.append(num)\n",
    "    elif num == 0:\n",
    "        print(\"\\n리스트 : \", mylist)\n",
    "        print(\"크기 : \", len(mylist))\n",
    "        print(\"합계 : \", sum(mylist))\n",
    "        break"
   ]
  },
  {
   "cell_type": "code",
   "execution_count": 11,
   "id": "e2bf4f30",
   "metadata": {},
   "outputs": [
    {
     "data": {
      "text/plain": [
       "'a,b,c'"
      ]
     },
     "execution_count": 11,
     "metadata": {},
     "output_type": "execute_result"
    }
   ],
   "source": [
    "mylist = ['a', 'b', 'c']\n",
    "','.join(mylist) #join : 배열을 문자열로 결합"
   ]
  },
  {
   "cell_type": "markdown",
   "id": "cee66579",
   "metadata": {},
   "source": [
    "# List comprehension p206\n",
    "- append() [표현식 for 항목 in 순회 가능한 객체]\n",
    "- range() [표현식 for 항목 in 순회 가능한 객체 if 조건]"
   ]
  },
  {
   "cell_type": "code",
   "execution_count": null,
   "id": "0d7e8293",
   "metadata": {},
   "outputs": [],
   "source": [
    "# 1~100사이의 짝수만을 리스트로 만들고자 한다면?\n",
    "mylist = []\n",
    "for item in range(2, 101, 2):\n",
    "    mylist.append(item)\n",
    "print(mylist)"
   ]
  },
  {
   "cell_type": "code",
   "execution_count": null,
   "id": "331489e5",
   "metadata": {},
   "outputs": [],
   "source": [
    "# 기존방식인 위랑 비교 (파이썬에만 있는 방식)\n",
    "mylist = [item for item in range (2, 101, 2)] \n",
    "print(mylist)"
   ]
  },
  {
   "cell_type": "code",
   "execution_count": null,
   "id": "681625f7",
   "metadata": {},
   "outputs": [],
   "source": [
    "# 3의 배수를 List comprehension로 만드시오\n",
    "mylist = [item for item in range(3, 101, 3)]\n",
    "print(mylist)"
   ]
  },
  {
   "cell_type": "code",
   "execution_count": null,
   "id": "99925eb4",
   "metadata": {},
   "outputs": [],
   "source": [
    "mylist = [2, 4, 5, 2, 1, 3, 12, 9 ,8]\n",
    "# 이중에서 짝수만 골라서 리스트로 만들기\n",
    "temp = []\n",
    "for item in mylist:\n",
    "    if item % 2 == 0:\n",
    "        temp.append(item)\n",
    "print(temp)"
   ]
  },
  {
   "cell_type": "code",
   "execution_count": null,
   "id": "dff3fb6e",
   "metadata": {},
   "outputs": [],
   "source": [
    "# 위와 다른 방법\n",
    "mylist = [2, 4, 5, 2, 1, 3, 12, 9 ,8]\n",
    "temp = [item for item in mylist if item % 2 == 0]\n",
    "print(temp)"
   ]
  },
  {
   "cell_type": "code",
   "execution_count": 9,
   "id": "147565e5",
   "metadata": {},
   "outputs": [
    {
     "name": "stdout",
     "output_type": "stream",
     "text": [
      "[-1, 2, 4, 5, 2, 1, 3, 12, 9, 8]\n",
      "[-1, 2, 4, 5, 2, 1, 3, 12, 9]\n"
     ]
    }
   ],
   "source": [
    "mylist = [2, 4, 5, 2, 1, 3, 12, 9 ,8]\n",
    "mylist.insert(0, -1)\n",
    "print(mylist)\n",
    "mylist.pop()\n",
    "print(mylist)"
   ]
  },
  {
   "cell_type": "code",
   "execution_count": 10,
   "id": "e9ccd8c4",
   "metadata": {},
   "outputs": [
    {
     "name": "stdout",
     "output_type": "stream",
     "text": [
      "[1, 2, 3, 3, 4, 5]\n",
      "[1, 2, 3, 1, 2, 3, 1, 2, 3]\n"
     ]
    }
   ],
   "source": [
    "list1 = [1, 2, 3]\n",
    "list2 = [3, 4, 5]\n",
    "print(list1 + list2)\n",
    "print(list1 * 3)"
   ]
  },
  {
   "cell_type": "code",
   "execution_count": 11,
   "id": "b003fce1",
   "metadata": {},
   "outputs": [
    {
     "name": "stdout",
     "output_type": "stream",
     "text": [
      "[1, 2, 3, 4, 5]\n",
      "1\n",
      "[-1, 2, 3, 4, 5]\n",
      "abcdefg\n",
      "a\n",
      "zbcdefg\n"
     ]
    }
   ],
   "source": [
    "list3 = [1, 2, 3, 4, 5]      # List -> mutable\n",
    "print(list3)\n",
    "print(list3[0])\n",
    "list3[0] = -1\n",
    "print(list3)\n",
    "\n",
    "mystr = \"abcdefg\"            # String -> immutable\n",
    "print(mystr)\n",
    "print(mystr[0])\n",
    "mystr2 = mystr.replace('a', 'z') # immutable이기 때문에 mystr은 그대로, 반환받아서 출력해야 함 \n",
    "print(mystr2)"
   ]
  },
  {
   "cell_type": "markdown",
   "id": "44d8e31a",
   "metadata": {},
   "source": [
    "# Dictionary \n",
    "- key : value의 쌍으로 구성된 자료구조\n",
    "- immnutable"
   ]
  },
  {
   "cell_type": "code",
   "execution_count": 15,
   "id": "83c40e53",
   "metadata": {},
   "outputs": [
    {
     "name": "stdout",
     "output_type": "stream",
     "text": [
      "{'이름': '홍길동', '나이': 29, '주소': '서울시 강남구 역삼동'}\n"
     ]
    }
   ],
   "source": [
    "mydict = {'이름' : '홍길동', '나이' : 29, '주소' : '서울시 강남구 역삼동'}\n",
    "print(mydict)"
   ]
  },
  {
   "cell_type": "code",
   "execution_count": 17,
   "id": "e65c54f3",
   "metadata": {},
   "outputs": [
    {
     "name": "stdout",
     "output_type": "stream",
     "text": [
      "{'이름': '홍길동', '나이': 22, '주소': '서울시 강남구 역삼동', '전화번호': '1111-2222', 0: '1111-2222'}\n",
      "{'이름': '홍길동', '나이': 22, '주소': '서울시 강남구 역삼동', '전화번호': '1111-2222', 0: '1111-2222'}\n"
     ]
    }
   ],
   "source": [
    "dict['이름']\n",
    "mydict['나이'] = 22 # modify\n",
    "print(mydict)\n",
    "mydict['전화번호'] = '1111-2222' # update\n",
    "mydict[0] = '1111-2222' # 0이 index가 아니라 key\n",
    "print(mydict)"
   ]
  },
  {
   "cell_type": "code",
   "execution_count": 26,
   "id": "76f36ccf",
   "metadata": {},
   "outputs": [
    {
     "name": "stdout",
     "output_type": "stream",
     "text": [
      "{True: 'yes'}\n",
      "{True: 'one'}\n"
     ]
    }
   ],
   "source": [
    "temp = {}\n",
    "temp[True] = \"yes\"\n",
    "print(temp)\n",
    "temp[1] = \"one\" # True == 1 -> True가 immnutable이라 modify\n",
    "print(temp)"
   ]
  },
  {
   "cell_type": "code",
   "execution_count": 27,
   "id": "fd5881ed",
   "metadata": {
    "scrolled": true
   },
   "outputs": [
    {
     "name": "stdout",
     "output_type": "stream",
     "text": [
      "나이\n",
      "주소\n",
      "홍길동\n",
      "None\n",
      "전화번호없다\n",
      "dict_keys(['이름', '나이', '주소'])\n",
      "['이름', '나이', '주소']\n",
      "['홍길동', 29, '서울시 강남구 역삼동']\n",
      "[('이름', '홍길동'), ('나이', 29), ('주소', '서울시 강남구 역삼동')]\n",
      "[('이름', '홍길동'), ('나이', 29), ('주소', '서울시 강남구 역삼동')]\n",
      "('이름', '홍길동')\n"
     ]
    }
   ],
   "source": [
    "# 앞에 .이있으면 메소드, 없으면 함수\n",
    "mydict = {'이름' : '홍길동', '나이' : 29, '주소' : '서울시 강남구 역삼동'}\n",
    "print(min(mydict))        # 키 값 중에서 최솟값(사전적 순서)\n",
    "print(max(mydict))        # 키 값 중에서 최대값(사전적 순서)\n",
    "print(mydict.get('이름')) # 특정 키를 통해 값을 얻음. 해당 키가 없으면 디폴트\n",
    "print(mydict.get('전화번호'))   #전화번호(key)가 없으면 None, 반환값 생략가능\n",
    "print(mydict.get('전화번호', '전화번호없다')) #전화번호(key)가 없으면 '전화번호없음 반환\n",
    "print(mydict.keys()) # 포인터값 반환\n",
    "print(list(mydict.keys()))      # 키 값을 리스트로 얻어옴\n",
    "print(list(mydict.values()))    # 밸류값을 리스트로 얻어옴\n",
    "print(list(mydict.items()))     # 키와 밸류의 쌍을 튜플로 얻어옴\n",
    "# sorted(interable, *, key=None, reverse=False) # 내장함수, 딕셔너리의 키를 오름차순 정렬\n",
    "\n",
    "mytuple = list(mydict.items())\n",
    "print(mytuple)\n",
    "print(mytuple[0]) # immutable 변경 불가"
   ]
  },
  {
   "cell_type": "markdown",
   "id": "9be99627",
   "metadata": {},
   "source": [
    "solution\n",
    "0) 비어있는 딕셔너리를 생성 mydict = {}\n",
    "1) 문자열을 분해한다. (split) ==> list로 분해됨\n",
    "2) 반복문을 통해서 list에서 하나씩 꺼내옴\n",
    "3) dict에 넣는다. get()을 이용해서 dict에 이단어가 이미 존재한다면 +1, 존재하지 않으면 1"
   ]
  },
  {
   "cell_type": "code",
   "execution_count": 29,
   "id": "f7d22fd6",
   "metadata": {},
   "outputs": [],
   "source": [
    "# [문제] 아래의 문자열을 이용하여 단어의 개수를 세는 프로그램을 작성하시오\n",
    "speech = \"\"\"When I was young\n",
    "I'd listen to the radio\n",
    "Waitin' for my favorite songs\n",
    "When they played I'd sing along\n",
    "It made me smile.\"\"\""
   ]
  },
  {
   "cell_type": "code",
   "execution_count": 6,
   "id": "2bfc404d",
   "metadata": {
    "scrolled": true
   },
   "outputs": [
    {
     "name": "stdout",
     "output_type": "stream",
     "text": [
      "{'when': 2, 'i': 1, 'was': 1, 'young': 1, \"i'd\": 2, 'listen': 1, 'to': 1, 'the': 1, 'radio': 1, \"waitin'\": 1, 'for': 1, 'my': 1, 'favorite': 1, 'songs': 1, 'they': 1, 'played': 1, 'sing': 1, 'along': 1, 'it': 1, 'made': 1, 'me': 1, 'smile.': 1}\n"
     ]
    }
   ],
   "source": [
    "# 방법1\n",
    "counter = dict()\n",
    "\n",
    "temp = speech.split()\n",
    "\n",
    "for word in temp:\n",
    "    word = word.lower()\n",
    "    \n",
    "    if(counter.get(word) == None):\n",
    "        counter[word] =1\n",
    "    else:\n",
    "        counter[word] += 1\n",
    "        \n",
    "print(counter)"
   ]
  },
  {
   "cell_type": "code",
   "execution_count": 30,
   "id": "66cbce08",
   "metadata": {},
   "outputs": [
    {
     "name": "stdout",
     "output_type": "stream",
     "text": [
      "{'when': 4, 'i': 2, 'was': 2, 'young': 2, \"i'd\": 4, 'listen': 2, 'to': 2, 'the': 2, 'radio': 2, \"waitin'\": 2, 'for': 2, 'my': 2, 'favorite': 2, 'songs': 2, 'they': 2, 'played': 2, 'sing': 2, 'along': 2, 'it': 2, 'made': 2, 'me': 2, 'smile.': 2}\n"
     ]
    }
   ],
   "source": [
    "# 방법2\n",
    "counter = dict()\n",
    "\n",
    "temp = speech.split()\n",
    "\n",
    "for word in temp:\n",
    "    word = word.lower()\n",
    "    \n",
    "    counter[word] =  counter.get(word, 1)\n",
    "    counter[word] += counter.get(word)\n",
    "        \n",
    "print(counter)"
   ]
  },
  {
   "cell_type": "code",
   "execution_count": null,
   "id": "0ac51871",
   "metadata": {},
   "outputs": [],
   "source": [
    "# str.isalpha() : 문자열에 하나라도 문자가 아닌것이 있으면 False\n",
    "\"test!\".isalpha()\n",
    "\n",
    "# str.isnumeric () : 숫자가 아니면 False "
   ]
  },
  {
   "cell_type": "code",
   "execution_count": null,
   "id": "e23bbc08",
   "metadata": {},
   "outputs": [],
   "source": [
    "# 방법3\n",
    "counter = dict()\n",
    "\n",
    "temp = speech.split()\n",
    "\n",
    "for word in temp:\n",
    "    word = word.lower()\n",
    "    if not word.isalpha(): continue #알파벳이 아닌것이 있으면 continue\n",
    "        \n",
    "    counter[word] =  counter.get(word, 1)\n",
    "    counter[word] += counter.get(word)\n",
    "        \n",
    "print(counter)"
   ]
  },
  {
   "cell_type": "code",
   "execution_count": null,
   "id": "48f97fef",
   "metadata": {},
   "outputs": [],
   "source": [
    "# p196 연습문제\n",
    "# 3\n",
    "s = \"차종:코란도C, 제조사:쌍용, 배기량:1998\"\n",
    "position = s.find('쌍')\n",
    "print(\"제조사 : \", s[position : position+2])\n",
    "print()\n",
    "\n",
    "# 5\n",
    "domain = input(\"도메인 : \")\n",
    "domain = domain.lower() # 소문자로\n",
    "if domain.endswith(\".kr\" ):\n",
    "    print(\"OK\")\n",
    "else:\n",
    "    print(\"NO\")\n",
    "print()\n",
    "\n",
    "#9\n",
    "total = 356\n",
    "avg = 89.2785\n",
    "score = \"%d, %.2f\" % (total, avg)\n",
    "print(format(total, 'd'),end = ', ')\n",
    "print(format(avg, '.2f'))\n",
    "print(score)"
   ]
  },
  {
   "cell_type": "code",
   "execution_count": null,
   "id": "58142eca",
   "metadata": {},
   "outputs": [],
   "source": [
    "temp = \"Hello\"\n",
    "print(temp[::-1]) # 뒤집기"
   ]
  },
  {
   "cell_type": "code",
   "execution_count": null,
   "id": "1ce92235",
   "metadata": {},
   "outputs": [],
   "source": []
  },
  {
   "cell_type": "code",
   "execution_count": null,
   "id": "6bdfc6cf",
   "metadata": {},
   "outputs": [],
   "source": []
  }
 ],
 "metadata": {
  "kernelspec": {
   "display_name": "Python 3 (ipykernel)",
   "language": "python",
   "name": "python3"
  },
  "language_info": {
   "codemirror_mode": {
    "name": "ipython",
    "version": 3
   },
   "file_extension": ".py",
   "mimetype": "text/x-python",
   "name": "python",
   "nbconvert_exporter": "python",
   "pygments_lexer": "ipython3",
   "version": "3.9.13"
  },
  "toc": {
   "base_numbering": 1,
   "nav_menu": {},
   "number_sections": true,
   "sideBar": true,
   "skip_h1_title": false,
   "title_cell": "Table of Contents",
   "title_sidebar": "Contents",
   "toc_cell": false,
   "toc_position": {},
   "toc_section_display": true,
   "toc_window_display": false
  }
 },
 "nbformat": 4,
 "nbformat_minor": 5
}
