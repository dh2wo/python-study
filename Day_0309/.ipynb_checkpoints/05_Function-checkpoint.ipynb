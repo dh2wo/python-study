{
 "cells": [
  {
   "cell_type": "markdown",
   "id": "5266fa75",
   "metadata": {},
   "source": [
    "# 함수(function) p140\n",
    "- 함수는 프로그램상에서 자주 사용되는 코드를 하나의 기능으로 묶어 사용\n",
    "- 종류\n",
    "    * 내장함수(built_in)\n",
    "    * 메소드 : 특정 클래스 내에 포함된 함수\n",
    "    * 사용자 정의 함수 : 개발자가 만든 함수\n",
    "- 정의(define) / 호출(call)\n",
    "- 하나의 함수는 한가지 일만"
   ]
  },
  {
   "cell_type": "code",
   "execution_count": null,
   "id": "1b5ef669",
   "metadata": {},
   "outputs": [],
   "source": [
    "# 정의\n",
    "def calc(a, b): # (a,b) : 매개변수\n",
    "    result = a + b\n",
    "    return result # 호출한 곳으로 리턴\n",
    "\n",
    "# 호출\n",
    "result = calc(120, 20) # 파라미터\n",
    "print(result)"
   ]
  },
  {
   "cell_type": "code",
   "execution_count": null,
   "id": "4d90d965",
   "metadata": {},
   "outputs": [],
   "source": [
    "def calc2(a, b): \n",
    "    return a + b, a * b\n",
    "\n",
    "r1, r2 = calc2(11, 23)\n",
    "print(r1, r2)\n",
    "\n",
    "print(calc2)\n",
    "temp = calc2\n",
    "print(temp)"
   ]
  },
  {
   "cell_type": "code",
   "execution_count": null,
   "id": "be81d9a8",
   "metadata": {},
   "outputs": [],
   "source": [
    "def myfunc():\n",
    "    pass # 함수를 만들기전 에러가 안뜨도록"
   ]
  },
  {
   "cell_type": "code",
   "execution_count": null,
   "id": "655cf159",
   "metadata": {},
   "outputs": [],
   "source": [
    "# 가변 인수\n",
    "def func(*a): # *는 모든 데이터를 튜플(묶어)로 받는다\n",
    "#     print(a, len(a))\n",
    "#     print(type(a))\n",
    "    total = 0\n",
    "    for tmp in a:\n",
    "        total +=tmp\n",
    "    return total\n",
    "    \n",
    "print(func(1))\n",
    "print(func(1, 2, 3, 4))\n",
    "#print(func([1, 2, 3, 4])) # 하나의 배열 # 오류(전달은 되지만 연산은 불가능)"
   ]
  },
  {
   "cell_type": "code",
   "execution_count": null,
   "id": "730c7967",
   "metadata": {},
   "outputs": [],
   "source": [
    "# 인수의 기본값이 지정된 함수\n",
    "def calcstep(start, stop, step):\n",
    "    total = 0\n",
    "    for num in range(start, stop + 1, step):\n",
    "        total += num\n",
    "    return total\n",
    "    \n",
    "print(\"1 ~ 10 : \", calcstep(1, 10, 2))\n",
    "print(\"2 ~ 10 : \", calcstep(2, 10, 2))"
   ]
  },
  {
   "cell_type": "code",
   "execution_count": null,
   "id": "11796912",
   "metadata": {},
   "outputs": [],
   "source": [
    "# 인수의 기본값이 지정된 함수\n",
    "def calcstep(start=1, stop = 10, step = 1): # 값을 지정해주면 오른쪽! 매개변수에도 무조건 값을 지정해 줘야한다\n",
    "    total = 0\n",
    "    for num in range(start, stop + 1, step):\n",
    "        total += num\n",
    "    return total\n",
    "    \n",
    "calcstep(1, 10, 2)\n",
    "calcstep(1, 10) # start, stop\n",
    "calcstep(5) # start\n",
    "calcstep()\n",
    "\n",
    "# 키워드 인수\n",
    "calcstep(step = 1, stop = 50, start = 10)"
   ]
  },
  {
   "cell_type": "code",
   "execution_count": null,
   "id": "e4548bd7",
   "metadata": {},
   "outputs": [],
   "source": [
    "# 키워드 가변 인수\n",
    "def calcstep(**agrs): # 가변인수(*)는 튜플 키워드가변인수(**)는 딕셔너리형태로 받음\n",
    "    print(agrs)\n",
    "    print(type(agrs)) \n",
    "    \n",
    "calcstep(step = 1, stop = 50, start = 10) # 키, 밸류의 쌍으로 받을 수 있도록 호출\n",
    "# calcstep(1, 50, 10) # 키가 없이 보낼때는 (*agrs)"
   ]
  },
  {
   "cell_type": "markdown",
   "id": "3449738a",
   "metadata": {},
   "source": [
    "# [문제] 함수를 이용한 계산기\n",
    "- 이항사칙 연산식을 매개변수로 받아 연산의 결과를 출력하는 함수를 정의하시오\n",
    "    - 함수 형식 : calaculator(exp)\n",
    "    - exp : 사용자로부터 입력받은 문자열 형태의 연산식\n",
    "- [실행예시]\n",
    "     - 계산식을 입력하세요 : 10 + 20 = 30.00\n",
    "     - 계산식을 입력하세요 : 10a20 = 연산자 오류"
   ]
  },
  {
   "cell_type": "code",
   "execution_count": null,
   "id": "e03b3b83",
   "metadata": {},
   "outputs": [],
   "source": [
    " def calaculator(data):\n",
    "    oper = [\"+\", \"-\", \"*\", \"/\"]\n",
    "\n",
    "    try:\n",
    "        for i in list(data):\n",
    "            if i in oper:\n",
    "                num = data.split(i)\n",
    "                if i == \"+\":\n",
    "                    result = float(num[0]) + float(num[1]) \n",
    "                elif i == \"-\":\n",
    "                    result = float(num[0]) - float(num[1]) \n",
    "                elif i == \"*\":\n",
    "                    result = float(num[0]) * float(num[1]) \n",
    "                elif i == \"/\":\n",
    "                    result = float(num[0]) / float(num[1]) \n",
    "        print(f\"{result:.2f}\")\n",
    "    except:\n",
    "        print('연산자 오류')\n",
    "\n",
    "data = input(\"계산 : \")\n",
    "calaculator(data)"
   ]
  },
  {
   "cell_type": "code",
   "execution_count": null,
   "id": "663fd8d9",
   "metadata": {},
   "outputs": [],
   "source": [
    "# # 양수만 처리(연산자 4개, 연산자를 기준으로 양쪽은 정수)\n",
    "def calaculator(data):\n",
    "    oper = [\"+\", \"-\", \"*\", \"/\"]\n",
    "    value1 = 0\n",
    "    value2 = 0\n",
    "    \n",
    "    for i in oper:\n",
    "        value = data.split(i)\n",
    "        if i in data and value[0].isnumeric() and value[1].isnumeric():\n",
    "            value1 = float(data.split(i)[0])\n",
    "            value2 = float(data.split(i)[1])\n",
    "            \n",
    "            if i == \"+\":\n",
    "                return value1 + value2\n",
    "            elif i == \"-\":\n",
    "                return value1 - value2\n",
    "            elif i == \"*\":\n",
    "                return value1 * value2\n",
    "            elif i == \"/\" and value2 != 0:\n",
    "                return value1 / value2\n",
    "                \n",
    "data = input(\"계산 : \")\n",
    "result = calaculator(data)\n",
    "\n",
    "if(result):\n",
    "    print(f\"{result:.2f}\")\n",
    "else:\n",
    "    print(\"연산자 오류\")"
   ]
  },
  {
   "cell_type": "code",
   "execution_count": 23,
   "id": "d7d33f2c",
   "metadata": {},
   "outputs": [
    {
     "name": "stdout",
     "output_type": "stream",
     "text": [
      "계산식을 입력하세요 : 10.2+22\n",
      "수식오류\n"
     ]
    }
   ],
   "source": [
    "# t\n",
    "def calaculator(data):\n",
    "    oper = [\"+\", \"-\", \"*\", \"/\"]\n",
    "    flag =  False\n",
    "    myop = None\n",
    "    \n",
    "    for op in oper:\n",
    "        if op in data: # 전달 받은 data 안에 허용하는 연산자가 있으면 True\n",
    "            flag = True\n",
    "            myop = op\n",
    "            break\n",
    "    if not flag: # 연산자를 찾지 못했을때\n",
    "        return flag\n",
    "    \n",
    "    value1 = data.split(myop)[0]\n",
    "    value2 = data.split(myop)[1]\n",
    "    \n",
    "    if not (value1.isnumeric() and value2.isnumeric()): # 숫자가 아니면\n",
    "        return False\n",
    "    \n",
    "    if len(value1) <= 0 or len(value2) <= 0: # 숫자가 아닌 빈칸이 들어갔을때\n",
    "        return False\n",
    "    \n",
    "    value1 = float(value1)\n",
    "    value2 = float(value2)\n",
    "    \n",
    "    result = value1 + value2 if myop == \"+\" else \\\n",
    "             value1 - value2 if myop == \"-\" else \\\n",
    "             value1 * value2 if myop == \"*\" else value1 / value2\n",
    "    return '%s = %.2f' % (data, result)\n",
    "\n",
    "result = calaculator(input(\"계산식을 입력하세요 : \"))\n",
    "\n",
    "if result:\n",
    "    print(result)\n",
    "else:\n",
    "    print(\"수식오류\")"
   ]
  }
 ],
 "metadata": {
  "kernelspec": {
   "display_name": "Python 3 (ipykernel)",
   "language": "python",
   "name": "python3"
  },
  "language_info": {
   "codemirror_mode": {
    "name": "ipython",
    "version": 3
   },
   "file_extension": ".py",
   "mimetype": "text/x-python",
   "name": "python",
   "nbconvert_exporter": "python",
   "pygments_lexer": "ipython3",
   "version": "3.9.13"
  }
 },
 "nbformat": 4,
 "nbformat_minor": 5
}
