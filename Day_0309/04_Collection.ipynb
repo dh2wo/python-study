{
 "cells": [
  {
   "cell_type": "markdown",
   "id": "e08acb1f",
   "metadata": {},
   "source": [
    "# 튜플(Tuple)\n",
    "- ()로 생성\n",
    "- 불편(immutable) 자료 집합(*)\n",
    "- ()가 없어도 ,가 있으면 튜플 ex) tu = 2, -> (2, )\n",
    "- 튜플보다 리스트를 더 많이 사용"
   ]
  },
  {
   "cell_type": "code",
   "execution_count": 58,
   "id": "46f80b6a",
   "metadata": {},
   "outputs": [
    {
     "name": "stdout",
     "output_type": "stream",
     "text": [
      "<class 'tuple'>\n"
     ]
    }
   ],
   "source": [
    "a = (1, 2, 3)\n",
    "print(type(a))"
   ]
  },
  {
   "cell_type": "code",
   "execution_count": 60,
   "id": "4278256a",
   "metadata": {},
   "outputs": [
    {
     "name": "stdout",
     "output_type": "stream",
     "text": [
      "(10, 20, 30)\n"
     ]
    }
   ],
   "source": [
    "b = 10, 20, 30\n",
    "print(b)"
   ]
  },
  {
   "cell_type": "code",
   "execution_count": 65,
   "id": "dff7d7bf",
   "metadata": {},
   "outputs": [
    {
     "name": "stdout",
     "output_type": "stream",
     "text": [
      "('이순신', '김유신', '강감찬')\n",
      "이순신\n",
      "김유신\n",
      "강감찬\n"
     ]
    }
   ],
   "source": [
    "tu = \"이순신\", \"김유신\", \"강감찬\"\n",
    "print(tu)\n",
    "lee, kim, kang = tu # 요소 3개를 꺼냄\n",
    "print(lee)\n",
    "print(kim)\n",
    "print(kang)"
   ]
  },
  {
   "cell_type": "code",
   "execution_count": 1,
   "id": "4113ab53",
   "metadata": {},
   "outputs": [
    {
     "ename": "NameError",
     "evalue": "name 'mydic' is not defined",
     "output_type": "error",
     "traceback": [
      "\u001b[1;31m---------------------------------------------------------------------------\u001b[0m",
      "\u001b[1;31mNameError\u001b[0m                                 Traceback (most recent call last)",
      "\u001b[1;32m~\\AppData\\Local\\Temp\\ipykernel_4636\\322785677.py\u001b[0m in \u001b[0;36m<module>\u001b[1;34m\u001b[0m\n\u001b[0;32m      1\u001b[0m \u001b[0mmykey\u001b[0m \u001b[1;33m=\u001b[0m \u001b[1;36m1\u001b[0m\u001b[1;33m,\u001b[0m \u001b[1;36m2\u001b[0m\u001b[1;33m\u001b[0m\u001b[1;33m\u001b[0m\u001b[0m\n\u001b[0;32m      2\u001b[0m \u001b[0mmydicic\u001b[0m \u001b[1;33m=\u001b[0m \u001b[1;33m{\u001b[0m\u001b[0mmykey\u001b[0m\u001b[1;33m:\u001b[0m \u001b[1;34m\"수치데이터\"\u001b[0m\u001b[1;33m,\u001b[0m \u001b[1;32mTrue\u001b[0m\u001b[1;33m:\u001b[0m \u001b[1;34m\"참\"\u001b[0m\u001b[1;33m,\u001b[0m \u001b[1;36m0\u001b[0m\u001b[1;33m:\u001b[0m \u001b[1;34m\"숫자0\"\u001b[0m\u001b[1;33m}\u001b[0m \u001b[1;31m#튜블은 불변이라 키가 될 수 있다\u001b[0m\u001b[1;33m\u001b[0m\u001b[1;33m\u001b[0m\u001b[0m\n\u001b[1;32m----> 3\u001b[1;33m \u001b[0mprint\u001b[0m\u001b[1;33m(\u001b[0m\u001b[0mmydic\u001b[0m\u001b[1;33m)\u001b[0m\u001b[1;33m\u001b[0m\u001b[1;33m\u001b[0m\u001b[0m\n\u001b[0m\u001b[0;32m      4\u001b[0m \u001b[0mprint\u001b[0m\u001b[1;33m(\u001b[0m\u001b[0mmydic\u001b[0m\u001b[1;33m[\u001b[0m\u001b[1;33m(\u001b[0m\u001b[1;36m1\u001b[0m\u001b[1;33m,\u001b[0m \u001b[1;36m2\u001b[0m\u001b[1;33m)\u001b[0m\u001b[1;33m]\u001b[0m\u001b[1;33m)\u001b[0m\u001b[1;33m\u001b[0m\u001b[1;33m\u001b[0m\u001b[0m\n\u001b[0;32m      5\u001b[0m \u001b[0mprint\u001b[0m\u001b[1;33m(\u001b[0m\u001b[0mmydic\u001b[0m\u001b[1;33m[\u001b[0m\u001b[1;32mTrue\u001b[0m\u001b[1;33m]\u001b[0m\u001b[1;33m)\u001b[0m\u001b[1;33m\u001b[0m\u001b[1;33m\u001b[0m\u001b[0m\n",
      "\u001b[1;31mNameError\u001b[0m: name 'mydic' is not defined"
     ]
    }
   ],
   "source": [
    "mykey = 1, 2\n",
    "mydicic = {mykey: \"수치데이터\", True: \"참\", 0: \"숫자0\"} #튜블은 불변이라 키가 될 수 있다\n",
    "print(mydic)\n",
    "print(mydic[(1, 2)])\n",
    "print(mydic[True])\n",
    "print(mydic[0]) # 키가 0, index가 아님!\n"
   ]
  },
  {
   "cell_type": "code",
   "execution_count": 88,
   "id": "4d3a6fee",
   "metadata": {},
   "outputs": [
    {
     "name": "stdout",
     "output_type": "stream",
     "text": [
      "time.struct_time(tm_year=2023, tm_mon=3, tm_mday=9, tm_hour=11, tm_min=5, tm_sec=15, tm_wday=3, tm_yday=68, tm_isdst=0)\n",
      "지금은 11시 5분 입니다.\n"
     ]
    }
   ],
   "source": [
    "import time\n",
    "\n",
    "# 함수의 정의\n",
    "def gettime():\n",
    "    now = time.localtime()\n",
    "    print(now)\n",
    "    return now.tm_hour, now.tm_min\n",
    "\n",
    "# 함수의 호출\n",
    "result = gettime()\n",
    "print(\"지금은 %d시 %d분 입니다.\" % (result[0], result[1]))"
   ]
  },
  {
   "cell_type": "code",
   "execution_count": 5,
   "id": "80dbdbe2",
   "metadata": {},
   "outputs": [
    {
     "ename": "IndexError",
     "evalue": "string index out of range",
     "output_type": "error",
     "traceback": [
      "\u001b[1;31m---------------------------------------------------------------------------\u001b[0m",
      "\u001b[1;31mIndexError\u001b[0m                                Traceback (most recent call last)",
      "\u001b[1;32m~\\AppData\\Local\\Temp\\ipykernel_10584\\1299929014.py\u001b[0m in \u001b[0;36m<module>\u001b[1;34m\u001b[0m\n\u001b[0;32m     28\u001b[0m \u001b[1;33m\u001b[0m\u001b[0m\n\u001b[0;32m     29\u001b[0m \u001b[1;31m# 날짜 출력\u001b[0m\u001b[1;33m\u001b[0m\u001b[1;33m\u001b[0m\u001b[0m\n\u001b[1;32m---> 30\u001b[1;33m \u001b[0mprint\u001b[0m\u001b[1;33m(\u001b[0m\u001b[0mstr\u001b[0m\u001b[1;33m(\u001b[0m\u001b[0mday\u001b[0m\u001b[1;33m[\u001b[0m\u001b[1;36m0\u001b[0m\u001b[1;33m]\u001b[0m\u001b[1;33m)\u001b[0m \u001b[1;33m+\u001b[0m \u001b[1;34m\"월 \"\u001b[0m \u001b[1;33m+\u001b[0m \u001b[0mstr\u001b[0m\u001b[1;33m(\u001b[0m\u001b[0mday\u001b[0m\u001b[1;33m[\u001b[0m\u001b[1;36m1\u001b[0m\u001b[1;33m]\u001b[0m\u001b[1;33m)\u001b[0m \u001b[1;33m+\u001b[0m \u001b[1;34m\"일\"\u001b[0m \u001b[1;33m+\u001b[0m \u001b[0mday\u001b[0m \u001b[1;33m+\u001b[0m \u001b[1;34m\"요일\"\u001b[0m\u001b[1;33m)\u001b[0m\u001b[1;33m\u001b[0m\u001b[1;33m\u001b[0m\u001b[0m\n\u001b[0m\u001b[0;32m     31\u001b[0m \u001b[1;33m\u001b[0m\u001b[0m\n\u001b[0;32m     32\u001b[0m \u001b[1;31m# 튜플로도 해보자!\u001b[0m\u001b[1;33m\u001b[0m\u001b[1;33m\u001b[0m\u001b[0m\n",
      "\u001b[1;31mIndexError\u001b[0m: string index out of range"
     ]
    }
   ],
   "source": [
    "# 함수 정의\n",
    "import time\n",
    "\n",
    "def gettime():\n",
    "    now = time.localtime()\n",
    "    return now.tm_mon, now.tm_mday, now.tm_wday\n",
    "\n",
    "# 함수 호출 \n",
    "result = gettime()\n",
    "today_wday = result[2]\n",
    "day = \"\"\n",
    "\n",
    "# 추출한 wday를 해당하는 문자열로 교체\n",
    "if today_wday == 0 :\n",
    "    day = \"월\"\n",
    "elif today_wday == 1 :\n",
    "    day = \"화\"\n",
    "elif today_wday == 2 :\n",
    "    day = \"수\"\n",
    "elif today_wday == 3 :\n",
    "    day = \"목\"\n",
    "elif today_wday == 4 :\n",
    "    day = \"금\"\n",
    "elif today_wday == 5 :\n",
    "    day = \"토\"\n",
    "elif today_wday == 6 :\n",
    "    day = \"일\"\n",
    "    \n",
    "# 날짜 출력\n",
    "print(str(day[0]) + \"월 \" + str(day[1]) + \"일\" + day + \"요일\") \n",
    "\n",
    "# 튜플로도 해보자!"
   ]
  },
  {
   "cell_type": "markdown",
   "id": "51aa7cc4",
   "metadata": {},
   "source": [
    "# 집합(Set)\n",
    "- (), set, set()으로 생성\n",
    "- 중복을 허용하지 않는다.\n",
    "- 순서가 없다.\n",
    "- 자료형의 중복을 제거하기 위해 사용\n",
    "- 교집합(&), 차집합(-), 합집합(|) 연산 가능"
   ]
  },
  {
   "cell_type": "code",
   "execution_count": 87,
   "id": "a3d64811",
   "metadata": {},
   "outputs": [
    {
     "name": "stdout",
     "output_type": "stream",
     "text": [
      "{'아메리카노', '캬라멜 마키아또', '카푸치노', '바닐라 라떼'}\n",
      "<class 'set'>\n",
      "{'pineapple', 'pear', 'orange', 'apple', 'banana'}\n",
      "<class 'set'>\n",
      "{'아이스라떼', '캬라멜 마키아또', '카푸치노', '바닐라 라떼', '아메리카노'}\n"
     ]
    }
   ],
   "source": [
    "coffee = set(['아메리카노', '카푸치노', '캬라멜 마키아또', '바닐라 라떼'])\n",
    "print(coffee)\n",
    "print(type(coffee))\n",
    "\n",
    "fruit = {'apple', 'pear', 'banana', 'orange', 'pineapple'}\n",
    "print(fruit)\n",
    "print(type(fruit))\n",
    "\n",
    "coffee.add('아이스라떼')\n",
    "coffee.add('아메리카노') # 동일한 데이터가 있으므로 삽입되지 않음\n",
    "\n",
    "print(coffee)"
   ]
  },
  {
   "cell_type": "markdown",
   "id": "38ccfd3f",
   "metadata": {},
   "source": [
    "# 컬렉션 관리 함수 p242\n",
    " - zip() : 여러 개의 컬렉션을 합쳐 하나로 만든다.\n",
    " - enumperate() : 컬렉션의 데이터를 순회하면서 (index)번호도 함께 추출\n",
    " - zip() + enumperate() = list?"
   ]
  },
  {
   "cell_type": "code",
   "execution_count": 108,
   "id": "a26f14f4",
   "metadata": {},
   "outputs": [
    {
     "name": "stdout",
     "output_type": "stream",
     "text": [
      "0 요소 :  월\n",
      "1 요소 :  화\n",
      "2 요소 :  수\n",
      "3 요소 :  목\n",
      "4 요소 :  금\n"
     ]
    }
   ],
   "source": [
    "# enumerate\n",
    "days = ['월', '화', '수', '목', '금']\n",
    "enumerate(days)\n",
    "list(enumerate(days))\n",
    "list(enumerate(days, 1)) # ,1은 시작값\n",
    "\n",
    "for index, item in enumerate(days):\n",
    "    print(index, \"요소 : \", item)"
   ]
  },
  {
   "cell_type": "code",
   "execution_count": 1,
   "id": "6b247154",
   "metadata": {},
   "outputs": [
    {
     "name": "stdout",
     "output_type": "stream",
     "text": [
      "[('월', '갈비탕'), ('화', '순대국'), ('수', '칼국수'), ('목', '삼겹살')]\n",
      "<zip object at 0x000001D2C72CF780>\n",
      "월요일 메뉴 : 갈비탕\n",
      "화요일 메뉴 : 순대국\n",
      "수요일 메뉴 : 칼국수\n",
      "목요일 메뉴 : 삼겹살\n"
     ]
    }
   ],
   "source": [
    "# zip\n",
    "days = ['월', '화', '수', '목', '금', '토', '일']\n",
    "food = ['갈비탕', '순대국', '칼국수', '삼겹살'] # 금,토,일은 버려진다\n",
    "print(list(zip(days, food)))\n",
    "\n",
    "menu = zip(days, food)\n",
    "for y, f in menu:\n",
    "    print(\"%s요일 메뉴 : %s\" % (y, f))"
   ]
  },
  {
   "cell_type": "code",
   "execution_count": 120,
   "id": "0598bbb2",
   "metadata": {},
   "outputs": [
    {
     "name": "stdout",
     "output_type": "stream",
     "text": [
      "{'월': '갈비탕', '화': '순대국', '수': '칼국수', '목': '삼겹살'}\n",
      "칼국수\n"
     ]
    }
   ],
   "source": [
    "days = ['월', '화', '수', '목', '금', '토', '일']\n",
    "food = ['갈비탕', '순대국', '칼국수', '삼겹살'] # 금,토,일은 버려진다\n",
    "print(dict(zip(days, food)))\n",
    "\n",
    "menu = dict(zip(days, food))\n",
    "print(menu['수'])"
   ]
  },
  {
   "cell_type": "code",
   "execution_count": 127,
   "id": "b8c6719d",
   "metadata": {},
   "outputs": [
    {
     "name": "stdout",
     "output_type": "stream",
     "text": [
      "[1, 2, 3]\n",
      "5\n",
      "2\n",
      "3\n",
      "[1, 2, 3.5, '문자열']\n"
     ]
    }
   ],
   "source": [
    "x = [[1, 2, 3], [4, 5, 6]]\n",
    "print(x[0])\n",
    "print(x[1][1]) # 파이썬은 2차원 일때 대괄호 2개를 사용!\n",
    "print(len(x))\n",
    "print(len(x[0]))\n",
    "\n",
    "# 서로 다른 데이터 타입을 파이썬에서는 가능, 쓰지는 말자!\n",
    "y = [1, 2, 3.5, '문자열'] \n",
    "print(y)"
   ]
  },
  {
   "cell_type": "markdown",
   "id": "013b5d04",
   "metadata": {},
   "source": [
    "[연습] x, y를 이용해서 z를 생성하시오\n",
    "- 컬렉션 관리 함수 이용\n",
    "- x[i] * 10 + y[i]\n",
    "- x = [[1, 2, 3], [4, 5, 6]]\n",
    "- y = [[11, 12, 13], [14, 15, 16]]\n",
    "- z = [[21, 32, 43], [54, 65, 76]] "
   ]
  },
  {
   "cell_type": "code",
   "execution_count": 207,
   "id": "62e43eaa",
   "metadata": {},
   "outputs": [
    {
     "name": "stdout",
     "output_type": "stream",
     "text": [
      "[1, 2, 3] [11, 12, 13]\n",
      "1 11\n",
      "2 12\n",
      "3 13\n",
      "[4, 5, 6] [14, 15, 16]\n",
      "4 14\n",
      "5 15\n",
      "6 16\n",
      "[[21, 32, 43], [54, 65, 76]]\n"
     ]
    }
   ],
   "source": [
    "# v1\n",
    "x = [[1, 2, 3], [4, 5, 6]]\n",
    "y = [[11, 12, 13], [14, 15, 16]]\n",
    "z = []\n",
    "\n",
    "for a, b in zip(x, y):\n",
    "    print(a, b)\n",
    "    temp = []\n",
    "    for c, d in zip(a, b):\n",
    "        print(c, d)\n",
    "        temp.append(c * 10 + d)\n",
    "    z.append(temp)b\n",
    "print(z)"
   ]
  },
  {
   "cell_type": "code",
   "execution_count": 211,
   "id": "6245a965",
   "metadata": {},
   "outputs": [
    {
     "name": "stdout",
     "output_type": "stream",
     "text": [
      "[[21, 32, 43], [54, 65, 76]]\n"
     ]
    }
   ],
   "source": [
    "# v2 list comprehension\n",
    "x = [[1, 2, 3], [4, 5, 6]]\n",
    "y = [[11, 12, 13], [14, 15, 16]]\n",
    "z = []\n",
    "\n",
    "z = [[c * 10 + d for c, d in zip(a, b)] for a, b in zip(x, y)]\n",
    "print(z)"
   ]
  },
  {
   "cell_type": "code",
   "execution_count": 217,
   "id": "2966d9ea",
   "metadata": {},
   "outputs": [
    {
     "name": "stdout",
     "output_type": "stream",
     "text": [
      "[33, 36, 39]\n"
     ]
    }
   ],
   "source": [
    "# list comprehension 보충\n",
    "k = [1, 2, 3]\n",
    "l = [10, 11, 12]\n",
    "m = [22, 23, 24]\n",
    "\n",
    "m = [q + w + e for q, w, e in zip(k, l, m)]\n",
    "print(m)"
   ]
  }
 ],
 "metadata": {
  "kernelspec": {
   "display_name": "Python 3 (ipykernel)",
   "language": "python",
   "name": "python3"
  },
  "language_info": {
   "codemirror_mode": {
    "name": "ipython",
    "version": 3
   },
   "file_extension": ".py",
   "mimetype": "text/x-python",
   "name": "python",
   "nbconvert_exporter": "python",
   "pygments_lexer": "ipython3",
   "version": "3.9.13"
  },
  "toc": {
   "base_numbering": 1,
   "nav_menu": {},
   "number_sections": true,
   "sideBar": true,
   "skip_h1_title": false,
   "title_cell": "Table of Contents",
   "title_sidebar": "Contents",
   "toc_cell": false,
   "toc_position": {},
   "toc_section_display": true,
   "toc_window_display": false
  }
 },
 "nbformat": 4,
 "nbformat_minor": 5
}
