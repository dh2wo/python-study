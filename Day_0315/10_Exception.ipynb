{
 "cells": [
  {
   "cell_type": "markdown",
   "id": "d79eeec7",
   "metadata": {},
   "source": [
    "# Python의 오류처리 p292"
   ]
  },
  {
   "cell_type": "code",
   "execution_count": 1,
   "id": "02ea5f5d",
   "metadata": {},
   "outputs": [
    {
     "name": "stdout",
     "output_type": "stream",
     "text": [
      "오류\n",
      "종료\n"
     ]
    }
   ],
   "source": [
    "try:\n",
    "    score = '89점'  # 실행할 명령\n",
    "    temp = int(score)  # 오류발생 코드 #아래 두줄 실행X\n",
    "    temp += 1\n",
    "    print(\"최종 점수: \", temp)\n",
    "except:\n",
    "    print(\"오류\")  # 오류 처리문\n",
    "\n",
    "print(\"종료\")  # 예외가 발생하지 않을 때의 처리"
   ]
  },
  {
   "cell_type": "code",
   "execution_count": 2,
   "id": "5fe2dce0",
   "metadata": {},
   "outputs": [
    {
     "name": "stdout",
     "output_type": "stream",
     "text": [
      "오류\n",
      "잘못된 점수 :  89점\n",
      "종료\n"
     ]
    }
   ],
   "source": [
    "s = '89점'\n",
    "try:\n",
    "    t = int(s)  # 오류발생 코드 #아래 두줄 실행X\n",
    "    t += 1\n",
    "    print(\"최종 점수: \", t)\n",
    "except:\n",
    "    print(\"오류\")\n",
    "\n",
    "print(\"잘못된 점수 : \", s)\n",
    "print(\"종료\")"
   ]
  },
  {
   "cell_type": "markdown",
   "id": "a31963f0",
   "metadata": {},
   "source": [
    "# 다양한 종류의 에러 확인"
   ]
  },
  {
   "cell_type": "code",
   "execution_count": 3,
   "id": "a675197a",
   "metadata": {},
   "outputs": [],
   "source": [
    "a = [1, 2, 3, 4, 5]\n",
    "# print(a[5]) # IndexError\n",
    "\n",
    "a = [1, \"a\", 3, 0, 5]\n",
    "# for i in a:\n",
    "#     print(5/i) # TypeError\n",
    "\n",
    "a = [1, \"3\", 3, 0, 5]\n",
    "# for i in a:\n",
    "#     print(5/int(i)) # ZeroDivisionError\n",
    "\n",
    "# f = open('song.dat', 'rb') # FileNotFoundError"
   ]
  },
  {
   "cell_type": "code",
   "execution_count": 4,
   "id": "e0b4bee6",
   "metadata": {},
   "outputs": [
    {
     "name": "stdout",
     "output_type": "stream",
     "text": [
      "오류\n",
      "list index out of range\n"
     ]
    }
   ],
   "source": [
    "# 오류 처리\n",
    "try:\n",
    "    a = [1, 2, 3, 4, 5]\n",
    "    print(a[5])  # IndexError\n",
    "except IndexError as e:\n",
    "    print('오류')\n",
    "    print(e)"
   ]
  },
  {
   "cell_type": "code",
   "execution_count": 5,
   "id": "5dd295ec",
   "metadata": {},
   "outputs": [
    {
     "name": "stdout",
     "output_type": "stream",
     "text": [
      "5.0\n",
      "오류\n",
      "unsupported operand type(s) for /: 'int' and 'str'\n"
     ]
    }
   ],
   "source": [
    "a = [1, \"a\", 3, 0, 5]\n",
    "try:\n",
    "    for i in a:\n",
    "        print(5 / i)  # TypeError\n",
    "except TypeError as e:\n",
    "    print('오류')\n",
    "    print(e)"
   ]
  },
  {
   "cell_type": "code",
   "execution_count": 6,
   "id": "6c55af98",
   "metadata": {},
   "outputs": [
    {
     "name": "stdout",
     "output_type": "stream",
     "text": [
      "5.0\n",
      "1.6666666666666667\n",
      "1.6666666666666667\n",
      "오류\n",
      "division by zero\n"
     ]
    }
   ],
   "source": [
    "a = [1, \"3\", 3, 0, 5]\n",
    "try:\n",
    "    for i in a:\n",
    "        print(5 / int(i))  # ZeroDivisionError\n",
    "except ZeroDivisionError as e:\n",
    "    print('오류')\n",
    "    print(e)"
   ]
  },
  {
   "cell_type": "code",
   "execution_count": 7,
   "id": "cadb64f7",
   "metadata": {},
   "outputs": [
    {
     "name": "stdout",
     "output_type": "stream",
     "text": [
      "오류\n",
      "[Errno 2] No such file or directory: 'song.dat'\n"
     ]
    }
   ],
   "source": [
    "try:\n",
    "    f = open('song.dat', 'rb')  # FileNotFoundError\n",
    "except FileNotFoundError as e:\n",
    "    print('오류')\n",
    "    print(e)"
   ]
  },
  {
   "cell_type": "code",
   "execution_count": 8,
   "id": "819daa25",
   "metadata": {},
   "outputs": [
    {
     "ename": "KeyboardInterrupt",
     "evalue": "Interrupted by user",
     "output_type": "error",
     "traceback": [
      "\u001b[1;31m---------------------------------------------------------------------------\u001b[0m",
      "\u001b[1;31mKeyboardInterrupt\u001b[0m                         Traceback (most recent call last)",
      "\u001b[1;32m~\\AppData\\Local\\Temp\\ipykernel_12780\\1381367499.py\u001b[0m in \u001b[0;36m<module>\u001b[1;34m\u001b[0m\n\u001b[0;32m      1\u001b[0m \u001b[1;31m# [연습] whiletry p293\u001b[0m\u001b[1;33m\u001b[0m\u001b[1;33m\u001b[0m\u001b[0m\n\u001b[0;32m      2\u001b[0m \u001b[1;32mwhile\u001b[0m \u001b[1;32mTrue\u001b[0m\u001b[1;33m:\u001b[0m\u001b[1;33m\u001b[0m\u001b[1;33m\u001b[0m\u001b[0m\n\u001b[1;32m----> 3\u001b[1;33m     \u001b[0mnum\u001b[0m \u001b[1;33m=\u001b[0m \u001b[0minput\u001b[0m\u001b[1;33m(\u001b[0m\u001b[1;34m\"점수 : \"\u001b[0m\u001b[1;33m)\u001b[0m\u001b[1;33m\u001b[0m\u001b[1;33m\u001b[0m\u001b[0m\n\u001b[0m\u001b[0;32m      4\u001b[0m     \u001b[1;32mtry\u001b[0m\u001b[1;33m:\u001b[0m\u001b[1;33m\u001b[0m\u001b[1;33m\u001b[0m\u001b[0m\n\u001b[0;32m      5\u001b[0m         \u001b[0mscore\u001b[0m \u001b[1;33m=\u001b[0m \u001b[0mint\u001b[0m\u001b[1;33m(\u001b[0m\u001b[0mnum\u001b[0m\u001b[1;33m)\u001b[0m\u001b[1;33m\u001b[0m\u001b[1;33m\u001b[0m\u001b[0m\n",
      "\u001b[1;32m~\\anaconda3\\lib\\site-packages\\ipykernel\\kernelbase.py\u001b[0m in \u001b[0;36mraw_input\u001b[1;34m(self, prompt)\u001b[0m\n\u001b[0;32m   1175\u001b[0m                 \u001b[1;34m\"raw_input was called, but this frontend does not support input requests.\"\u001b[0m\u001b[1;33m\u001b[0m\u001b[1;33m\u001b[0m\u001b[0m\n\u001b[0;32m   1176\u001b[0m             )\n\u001b[1;32m-> 1177\u001b[1;33m         return self._input_request(\n\u001b[0m\u001b[0;32m   1178\u001b[0m             \u001b[0mstr\u001b[0m\u001b[1;33m(\u001b[0m\u001b[0mprompt\u001b[0m\u001b[1;33m)\u001b[0m\u001b[1;33m,\u001b[0m\u001b[1;33m\u001b[0m\u001b[1;33m\u001b[0m\u001b[0m\n\u001b[0;32m   1179\u001b[0m             \u001b[0mself\u001b[0m\u001b[1;33m.\u001b[0m\u001b[0m_parent_ident\u001b[0m\u001b[1;33m[\u001b[0m\u001b[1;34m\"shell\"\u001b[0m\u001b[1;33m]\u001b[0m\u001b[1;33m,\u001b[0m\u001b[1;33m\u001b[0m\u001b[1;33m\u001b[0m\u001b[0m\n",
      "\u001b[1;32m~\\anaconda3\\lib\\site-packages\\ipykernel\\kernelbase.py\u001b[0m in \u001b[0;36m_input_request\u001b[1;34m(self, prompt, ident, parent, password)\u001b[0m\n\u001b[0;32m   1217\u001b[0m             \u001b[1;32mexcept\u001b[0m \u001b[0mKeyboardInterrupt\u001b[0m\u001b[1;33m:\u001b[0m\u001b[1;33m\u001b[0m\u001b[1;33m\u001b[0m\u001b[0m\n\u001b[0;32m   1218\u001b[0m                 \u001b[1;31m# re-raise KeyboardInterrupt, to truncate traceback\u001b[0m\u001b[1;33m\u001b[0m\u001b[1;33m\u001b[0m\u001b[0m\n\u001b[1;32m-> 1219\u001b[1;33m                 \u001b[1;32mraise\u001b[0m \u001b[0mKeyboardInterrupt\u001b[0m\u001b[1;33m(\u001b[0m\u001b[1;34m\"Interrupted by user\"\u001b[0m\u001b[1;33m)\u001b[0m \u001b[1;32mfrom\u001b[0m \u001b[1;32mNone\u001b[0m\u001b[1;33m\u001b[0m\u001b[1;33m\u001b[0m\u001b[0m\n\u001b[0m\u001b[0;32m   1220\u001b[0m             \u001b[1;32mexcept\u001b[0m \u001b[0mException\u001b[0m\u001b[1;33m:\u001b[0m\u001b[1;33m\u001b[0m\u001b[1;33m\u001b[0m\u001b[0m\n\u001b[0;32m   1221\u001b[0m                 \u001b[0mself\u001b[0m\u001b[1;33m.\u001b[0m\u001b[0mlog\u001b[0m\u001b[1;33m.\u001b[0m\u001b[0mwarning\u001b[0m\u001b[1;33m(\u001b[0m\u001b[1;34m\"Invalid Message:\"\u001b[0m\u001b[1;33m,\u001b[0m \u001b[0mexc_info\u001b[0m\u001b[1;33m=\u001b[0m\u001b[1;32mTrue\u001b[0m\u001b[1;33m)\u001b[0m\u001b[1;33m\u001b[0m\u001b[1;33m\u001b[0m\u001b[0m\n",
      "\u001b[1;31mKeyboardInterrupt\u001b[0m: Interrupted by user"
     ]
    }
   ],
   "source": [
    "# [연습] whiletry p293\n",
    "while True:\n",
    "    num = input(\"점수 : \")\n",
    "    try:\n",
    "        score = int(num)\n",
    "        print(\"입력한 점수 : \", score)\n",
    "        break\n",
    "    except:\n",
    "        print(\"점수 형식이 잘못되었습니다.\")\n",
    "print(\"작업완료\")"
   ]
  },
  {
   "cell_type": "code",
   "execution_count": null,
   "id": "f5fa94de",
   "metadata": {},
   "outputs": [],
   "source": [
    "# [문제] 임의의 리스트를 선언하고 해당 리스트 안에 정수로 현변환이 가능한 데이터만 저장하여 출력하고 합계를 구하는 프로그램을 작성하시오\n",
    "# 이때 리스트에 저장할 데이터는 키보드로 입력하고, 0의 입력은 프로그램의 종료\n",
    "mylist = list()\n",
    "\n",
    "while True: \n",
    "    try:\n",
    "        i = int(input(\"정수 입력 : \"))\n",
    "        if i == 0:\n",
    "            break\n",
    "        mylist.append(i)\n",
    "    except ValueError as e:\n",
    "        print('오류 : ', e)\n",
    "        \n",
    "print(\"리스트 : \", mylist)\n",
    "print(\"합 : \", sum(mylist))\n"
   ]
  },
  {
   "cell_type": "code",
   "execution_count": null,
   "id": "17738276",
   "metadata": {},
   "outputs": [],
   "source": [
    "# [문제] 임의의 리스트를 선언하고 해당 리스트 안에 정수로 현변환이 가능한 데이터만 저장하여 출력하고 합계를 구하는 프로그램을 작성하시오\n",
    "# 이때 리스트에 저장할 데이터는 키보드로 입력하고, 0의 입력은 프로그램의 종료\n",
    "mylist = list()\n",
    "\n",
    "while True: \n",
    "    try:\n",
    "        i = int(input(\"정수 입력 : \"))\n",
    "        if i == 0:\n",
    "            break\n",
    "        mylist.append(i)\n",
    "    except ValueError as e:\n",
    "        print('오류 : ', e)\n",
    "try:\n",
    "    print(\"리스트 : \", mylist)\n",
    "    print(\"합 : \", sum(mylist))\n",
    "    print(\"평균 : \", sum(mylist) / len(mylist))\n",
    "except:\n",
    "    print('저장된 데이터가 없습니다.')\n"
   ]
  },
  {
   "cell_type": "code",
   "execution_count": null,
   "id": "9eb1001e",
   "metadata": {},
   "outputs": [],
   "source": [
    "# [문제] lunch라는 이름의 빈 리스트를 생성. 반복적으로 점심메뉴를 입력 받는다.\n",
    "#        '#'이 입력되면 종료\n",
    "#        종료전에 오늘의 점심을 먹을 메뉴를 lunch에서 골라 출력하시오\n",
    "# v1\n",
    "import random\n",
    "\n",
    "lunch = []\n",
    "while True:\n",
    "    m = input('메뉴 : ')\n",
    "    if m == '#':\n",
    "        print('선택 : ', random.choice(lunch))\n",
    "        break\n",
    "    lunch.append(m)"
   ]
  },
  {
   "cell_type": "code",
   "execution_count": null,
   "id": "d65d2977",
   "metadata": {},
   "outputs": [],
   "source": [
    "# v2 -> 처음에 '#' 오류 처리\n",
    "import random\n",
    "\n",
    "lunch = []\n",
    "while True:\n",
    "    try:\n",
    "        m = input('메뉴 : ')\n",
    "        if m == '#':\n",
    "            print('선택 : ', random.choice(lunch))\n",
    "            break\n",
    "        lunch.append(m)\n",
    "    except:\n",
    "        print(\"메뉴가 없습니다.\")\n",
    "        break"
   ]
  },
  {
   "cell_type": "code",
   "execution_count": null,
   "id": "a58ca34e",
   "metadata": {},
   "outputs": [],
   "source": [
    "# v3 -> 함수 이용\n",
    "import random\n",
    "\n",
    "def inputlunch():\n",
    "    lunch = []\n",
    "    while True:\n",
    "        m = input('메뉴 : ')\n",
    "        if m == '#': return lunch\n",
    "        lunch.append(m)\n",
    "try:\n",
    "    mychoice = random.choice(inputlunch())\n",
    "    print('선택 : ', mychoice)\n",
    "except:\n",
    "    print(\"메뉴가 없습니다.\")"
   ]
  },
  {
   "cell_type": "code",
   "execution_count": null,
   "id": "551fb251",
   "metadata": {},
   "outputs": [],
   "source": [
    "# raise : 고의적으로 예외 발생 p296\n",
    "def calcsum(n):\n",
    "    if(n < 0):\n",
    "        raise ValueError\n",
    "    sum = 0\n",
    "    for i in range(n + 1):\n",
    "        sum = sum + i\n",
    "    return sum\n",
    "\n",
    "try:\n",
    "    print('~10 = ', calcsum(10))\n",
    "    print('~-5 = ', calcsum(-5))\n",
    "except ValueError:\n",
    "    print('입력값이 잘못되었습니다')"
   ]
  },
  {
   "cell_type": "code",
   "execution_count": null,
   "id": "d52e9e4b",
   "metadata": {},
   "outputs": [],
   "source": [
    "# v4 -> raise 사용\n",
    "import random\n",
    "\n",
    "def inputlunch():\n",
    "    lunch = []\n",
    "    while True:\n",
    "        m = input('메뉴 : ')\n",
    "        if m == '#': \n",
    "            if len(m) == 0: raise IndexError\n",
    "            return lunch\n",
    "        # 숫자로만 된 데이터가 입력되면 이것도 오류처리\n",
    "        if m.isnumeric(): raise ValueError\n",
    "        lunch.append(m)\n",
    "\n",
    "# main\n",
    "try:\n",
    "    mychoice = random.choice(inputlunch())\n",
    "    print('선택 : ', mychoice)\n",
    "except (IndexError, ValueError):\n",
    "    print(\"선택할 메뉴가 없습니다.\")"
   ]
  },
  {
   "cell_type": "code",
   "execution_count": 23,
   "id": "e9d52d93",
   "metadata": {
    "code_folding": []
   },
   "outputs": [
    {
     "name": "stdout",
     "output_type": "stream",
     "text": [
      "1) 메뉴 추가\n",
      "2) 메뉴 확인\n",
      "3) 메뉴 선택\n",
      "4) 메뉴 삭제\n",
      "0) 종료\n",
      "==> 2\n",
      "현재 메뉴 : 탕수육 햄버거 볶음밥 돈까스 짜장면 \n",
      "1) 메뉴 추가\n",
      "2) 메뉴 확인\n",
      "3) 메뉴 선택\n",
      "4) 메뉴 삭제\n",
      "0) 종료\n",
      "==> 1\n",
      "메뉴 추가 종료(#)\n",
      "추가할 메뉴 : #\n",
      "1) 메뉴 추가\n",
      "2) 메뉴 확인\n",
      "3) 메뉴 선택\n",
      "4) 메뉴 삭제\n",
      "0) 종료\n",
      "==> 0\n",
      "메뉴 저장완료!\n",
      "현재 메뉴 : 탕수육 햄버거 볶음밥 돈까스 짜장면 "
     ]
    }
   ],
   "source": [
    "# v5 -> 화면에 선택해서 작업하는 메뉴화면 작성, 파일 IO도 추가\n",
    "#       1) 메뉴추가  2) 메뉴확인  3) 메뉴선택  4) 메뉴삭제  0) 종료 ==> 1\n",
    "# 요구사항\n",
    "# - 동일한 메뉴는 추가되지 않도록 한다.\n",
    "# - 정렬해서 확인\n",
    "# - 선택 : 추가된 메뉴가 하나도 없을 때에는 선택하지 못하도록\n",
    "# - 삭제 : 삭제할 메뉴를 입력받는다. 있으면 삭제, 없으면 없다라는 메시지 출력\n",
    "# - 종료 : 현재까지 입력된 모든 메뉴를 파일(lunch.txt.)로 저장 후 종료\n",
    "#        : 프로그램이 구동 되자마자 바로 파일을 읽어서 처리\n",
    "import random\n",
    "\n",
    "lunch = []\n",
    "file_name = './lunch.txt'\n",
    "\n",
    "\n",
    "# 파일로부터 데이터를 읽음\n",
    "def read_file():\n",
    "    try:\n",
    "        with open(file_name, 'rt', encoding='UTF-8') as f:\n",
    "            lunch = f.readline().split()  # 지역변수\n",
    "            # print(lunch)\n",
    "            # print('파일 오픈완료!')\n",
    "            return lunch  # 받아서 리턴\n",
    "    except FileNotFoundError:\n",
    "        print('파일이 없습니다.')  # 파일이 존재하지 않아도 종료시 저장되기 때문에 필요X\n",
    "        write_lunch()\n",
    "        return\n",
    "\n",
    "\n",
    "# 1) 메뉴추가\n",
    "def input_lunch():\n",
    "    print('메뉴 추가 종료(#)')\n",
    "    while True:\n",
    "        try:\n",
    "            m = input('추가할 메뉴 : ')\n",
    "            if m == '#':\n",
    "                if len(m) == 0: raise IndexError\n",
    "                return lunch\n",
    "            # 숫자로만 된 데이터가 입력되면 이것도 오류처리\n",
    "            if m.isnumeric(): raise ValueError\n",
    "            if m in lunch:  # 중복된 메뉴 확인\n",
    "                print('이미 있는 메뉴입니다.')\n",
    "                continue\n",
    "            lunch.append(m)  # 중복되지 않은 메뉴면 추가\n",
    "        except:\n",
    "            print('메뉴로 입력해주세요.')\n",
    "\n",
    "\n",
    "# 2) 메뉴확인\n",
    "def output_lunch():\n",
    "    if len(lunch) == 0:\n",
    "        print('메뉴가 없습니다.')\n",
    "    else:\n",
    "        print('현재 메뉴 : ', end='')\n",
    "        for m in lunch:\n",
    "            print(m, end=' ')\n",
    "        print()\n",
    "\n",
    "\n",
    "# 3) 메뉴선택\n",
    "def choice_lunch():\n",
    "    try:\n",
    "        print('랜덤 선택 결과 : ', random.choice(lunch))\n",
    "    except:\n",
    "        print('메뉴가 없습니다.')\n",
    "\n",
    "\n",
    "# 4) 메뉴삭제\n",
    "def delete_lunch():\n",
    "    try:\n",
    "        print('현재 메뉴 : ', end='')\n",
    "        for m in lunch:\n",
    "            print(m, end=' ')\n",
    "        print()\n",
    "        delete_menu = input(\"삭제할 메뉴를 입력해주세요 : \")\n",
    "        lunch.remove(delete_menu)\n",
    "        print(f'{delete_menu}이 삭제 되었습니다.')\n",
    "        print('삭제후 메뉴 : ', lunch)\n",
    "    except:\n",
    "        print('삭제할 메뉴가 없습니다.')\n",
    "\n",
    "\n",
    "# 0) 종료\n",
    "def write_lunch():\n",
    "    with open(file_name, 'wt', encoding='UTF-8') as f:\n",
    "        for m in lunch:\n",
    "            f.write(m + ' ')  # 지역변수\n",
    "        print('메뉴 저장완료!')\n",
    "        print('현재 메뉴 : ', end='')\n",
    "        for m in lunch:\n",
    "            print(m, end=' ')\n",
    "\n",
    "\n",
    "# main\n",
    "lunch = read_file()\n",
    "\n",
    "while True:\n",
    "    select = input(\"1) 메뉴 추가\\n2) 메뉴 확인\\n3) 메뉴 선택\\n4) 메뉴 삭제\\n0) 종료\\n==> \")\n",
    "    if select == \"1\":\n",
    "        input_lunch()\n",
    "    elif select == \"2\":\n",
    "        output_lunch()\n",
    "    elif select == \"3\":\n",
    "        choice_lunch()\n",
    "    elif select == \"4\":\n",
    "        delete_lunch()\n",
    "    elif select == \"0\":\n",
    "        write_lunch()\n",
    "        break\n",
    "    else:\n",
    "        print(\"다시 선택해주세요.\")"
   ]
  },
  {
   "cell_type": "code",
   "execution_count": null,
   "id": "6acd9c61",
   "metadata": {},
   "outputs": [],
   "source": [
    "print "
   ]
  },
  {
   "cell_type": "code",
   "execution_count": null,
   "id": "6c4c44f8",
   "metadata": {},
   "outputs": [],
   "source": []
  }
 ],
 "metadata": {
  "kernelspec": {
   "display_name": "Python 3 (ipykernel)",
   "language": "python",
   "name": "python3"
  },
  "language_info": {
   "codemirror_mode": {
    "name": "ipython",
    "version": 3
   },
   "file_extension": ".py",
   "mimetype": "text/x-python",
   "name": "python",
   "nbconvert_exporter": "python",
   "pygments_lexer": "ipython3",
   "version": "3.9.13"
  },
  "toc": {
   "base_numbering": 1,
   "nav_menu": {},
   "number_sections": true,
   "sideBar": true,
   "skip_h1_title": false,
   "title_cell": "Table of Contents",
   "title_sidebar": "Contents",
   "toc_cell": false,
   "toc_position": {},
   "toc_section_display": true,
   "toc_window_display": false
  }
 },
 "nbformat": 4,
 "nbformat_minor": 5
}
