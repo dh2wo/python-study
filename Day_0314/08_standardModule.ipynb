{
 "cells": [
  {
   "cell_type": "markdown",
   "id": "8907d477",
   "metadata": {},
   "source": [
    "# 표준 모듈 p258\n",
    "- 모듈을 파이썬 코드를 작성해 놓은 스크립트 파일이다\n",
    "- 스크립트 파일안에는 함수, 변수, 클랙스 등이 정의되어 있다\n",
    "- 외부의 모듈을 가져와 사용할때는 import 명령을 사용한다.\n",
    "- 모듈에 포함된 함수를 호출 할 때는 함수명 앞에 모듈명을 붙인다.\n",
    "    - import math\n",
    "\n",
    "- 특정 함수만 임포트 하고자 할 때는 다음 구문을 사용한다.\n",
    "    - from 모듈 import 함수명\n",
    "    - ex) from math import sqrt\n",
    "- 모듈의 모든 함수를 불러올 때는 함수명 자리에 * 문자 사용\n",
    "- 모듈의 이름이 길면 별칭(as) 를 붙일 수 있다.\n",
    "    - import pandas as pd\n",
    "    - import numpy as np"
   ]
  },
  {
   "cell_type": "code",
   "execution_count": null,
   "id": "131bea43",
   "metadata": {},
   "outputs": [],
   "source": [
    "# as 키워드를 이용해 임포트한 모듈에 별칭 붙이기\n",
    "import pandas as pd\n",
    "import numpy as np"
   ]
  },
  {
   "cell_type": "markdown",
   "id": "104d80c0",
   "metadata": {},
   "source": [
    "# 수학"
   ]
  },
  {
   "cell_type": "code",
   "execution_count": null,
   "id": "241a2b2a",
   "metadata": {},
   "outputs": [],
   "source": [
    "import math\n",
    "\n",
    "print(math.sqrt(2)) #sqrt : 루트"
   ]
  },
  {
   "cell_type": "code",
   "execution_count": null,
   "id": "10cdc833",
   "metadata": {},
   "outputs": [],
   "source": [
    "# math모듈에서 sqrt모듈만 가져오고 싶을때\n",
    "from math import sqrt\n",
    "from math import *"
   ]
  },
  {
   "cell_type": "code",
   "execution_count": null,
   "id": "c51fa349",
   "metadata": {},
   "outputs": [],
   "source": [
    "import math\n",
    "\n",
    "print(math.sqrt(2)) #sqrt : 루트\n",
    "\n",
    "from math import sqrt # math모듈에서 sqrt모듈만 가져오고 싶을때"
   ]
  },
  {
   "cell_type": "code",
   "execution_count": null,
   "id": "144efe73",
   "metadata": {},
   "outputs": [],
   "source": [
    "# math 모듈 안에 상수\n",
    "# math.pi = 2.3 #상수는 바꾸면 안된다.\n",
    "math.pi"
   ]
  },
  {
   "cell_type": "code",
   "execution_count": null,
   "id": "2679f671",
   "metadata": {},
   "outputs": [],
   "source": [
    "# [문제] 반지름 입력받아 원의 면적구하기\n",
    "radius = float(input(\"반지름 : \"))\n",
    "area = (radius * radius) * math.pi\n",
    "print(f\"원의 넒이 : {area:.2f}\")"
   ]
  },
  {
   "cell_type": "code",
   "execution_count": null,
   "id": "2eaab2b8",
   "metadata": {},
   "outputs": [],
   "source": [
    "# sincurve 그냥 해봄\n",
    "import turtle as t\n",
    "\n",
    "t.penup()\n",
    "t.goto(-720, 0)\n",
    "t.pendown()\n",
    "for x in range(-720, 720):\n",
    "    t.goto(x, math.sin(math.radians(x)) * 100)\n",
    "t.done()"
   ]
  },
  {
   "cell_type": "markdown",
   "id": "bcd3d92e",
   "metadata": {},
   "source": [
    "# 시간"
   ]
  },
  {
   "cell_type": "code",
   "execution_count": null,
   "id": "eecb513d",
   "metadata": {},
   "outputs": [],
   "source": [
    "import time\n",
    "\n",
    "print(time.time())"
   ]
  },
  {
   "cell_type": "code",
   "execution_count": null,
   "id": "7538535f",
   "metadata": {
    "scrolled": true
   },
   "outputs": [],
   "source": [
    "t = time.time()\n",
    "print(time.ctime(t)) # 시간을 문자열로\n",
    "print(time.localtime(t)) \n",
    "print(time.localtime(t).tm_year)"
   ]
  },
  {
   "cell_type": "code",
   "execution_count": null,
   "id": "4ec1630c",
   "metadata": {},
   "outputs": [],
   "source": [
    "import datetime\n",
    "\n",
    "current = datetime.datetime.now()\n",
    "print(current)"
   ]
  },
  {
   "cell_type": "code",
   "execution_count": null,
   "id": "c706ed3e",
   "metadata": {},
   "outputs": [],
   "source": [
    "# time 모듈을 이용해서 실행시간 측정하기\n",
    "import time\n",
    "\n",
    "start = time.time()\n",
    "total = 0\n",
    "\n",
    "for i in range(1, 10001):\n",
    "    total += i\n",
    "print(\"1~1000까지의 합계 : \", total)\n",
    "\n",
    "end = time.time()\n",
    "print('실행시간 : ', end - start)"
   ]
  },
  {
   "cell_type": "code",
   "execution_count": null,
   "id": "16f75d99",
   "metadata": {},
   "outputs": [],
   "source": [
    "# sleep(초)을 이용해 CPU를 멈춤\n",
    "import time\n",
    "\n",
    "print(\"안녕하세요\")\n",
    "time.sleep(1)\n",
    "print(\"1초 후에 다음\")\n",
    "time.sleep(1)\n",
    "print(\"1초가 다시 흘렀습니다.\")"
   ]
  },
  {
   "cell_type": "code",
   "execution_count": null,
   "id": "0f4a1715",
   "metadata": {},
   "outputs": [],
   "source": [
    "# 달력\n",
    "import calendar\n",
    "\n",
    "print(calendar.calendar(2023))\n",
    "print(calendar.month(2023, 4))\n",
    "# ==\n",
    "#calendar.prcal(2023)\n",
    "#calendar.promth(2023, 4)"
   ]
  },
  {
   "cell_type": "code",
   "execution_count": null,
   "id": "025e5079",
   "metadata": {},
   "outputs": [],
   "source": [
    "import calendar\n",
    "\n",
    "yoil = ['월', '화', '수', '목', '금', '토', '일']\n",
    "day = calendar.weekday(1997, 4, 10)\n",
    "print(day) # 월요일 0 ~ \n",
    "print(f\"1997년의 4월 10일은 {yoil[day]}요일\")\n",
    "\n",
    "temp = calendar.weekday(1, 1, 1)\n",
    "print(f\"달력의 첫날 : {yoil[temp]}요일\")"
   ]
  },
  {
   "cell_type": "markdown",
   "id": "05810a29",
   "metadata": {},
   "source": [
    "# 난수\n",
    " - random 모듈 : 난수를 생성하는 기능 제공\n",
    "    - random() : 0에서 1미만 실수 하나를 생성\n",
    "    - choice(list 객체) : 리스트에서 임의의 요소를 하나 골라 리턴\n",
    "    - shuffle(list 객체) : 리스트의 요소를 무작위로 섞는다"
   ]
  },
  {
   "cell_type": "code",
   "execution_count": null,
   "id": "4274d9d2",
   "metadata": {},
   "outputs": [],
   "source": [
    "import random\n",
    "\n",
    "random.seed(1) # 랜덤 값 고정\n",
    "for i in range(5):\n",
    "    print(i+1, '회')\n",
    "    print(random.random())"
   ]
  },
  {
   "cell_type": "code",
   "execution_count": null,
   "id": "b9ec2755",
   "metadata": {},
   "outputs": [],
   "source": [
    "import random\n",
    "\n",
    "random.seed(1) # 랜덤 값 고정\n",
    "for i in range(5):\n",
    "    print(i+1, '회')\n",
    "    print(random.uniform(0, 50))"
   ]
  },
  {
   "cell_type": "code",
   "execution_count": null,
   "id": "20b61f10",
   "metadata": {},
   "outputs": [],
   "source": [
    "import random\n",
    "\n",
    "random.seed(1) # 랜덤 값 고정\n",
    "for i in range(5):\n",
    "    print(i+1, '회 : ', random.randint(0, 50))"
   ]
  },
  {
   "cell_type": "code",
   "execution_count": null,
   "id": "e7f215dc",
   "metadata": {},
   "outputs": [],
   "source": [
    "# Up-Down 게임\n",
    "import random\n",
    "\n",
    "hidden = random.randint(1, 100)\n",
    "\n",
    "for i in range(5):\n",
    "    answer = int(input(\"정답은? \"))\n",
    "    if hidden > answer:\n",
    "        print(\"UP\")\n",
    "    elif hidden < answer:\n",
    "        print(\"DOWN\")\n",
    "    else:\n",
    "        flag = True\n",
    "        print(\"정답!\")\n",
    "        break\n",
    "if not flag:\n",
    "    print(f\"정답은 {hidden} 이었습니다.\")"
   ]
  },
  {
   "cell_type": "code",
   "execution_count": 3,
   "id": "210a3be6",
   "metadata": {},
   "outputs": [
    {
     "name": "stdout",
     "output_type": "stream",
     "text": [
      "[24, 22, 26, 11, 3, 40]\n"
     ]
    }
   ],
   "source": [
    "# 중복되지 않은 난수 1~45까지의 7개의 수를 발생시키는 프로그램을 작성하시오. (not in 사용)\n",
    "# set() : 중복 여부 확인용\n",
    "# list() : 로또 데이터를 담는 용으로 사용\n",
    "import random\n",
    "\n",
    "lotto = []\n",
    "\n",
    "while True:\n",
    "    num = random.randint(1, 45)\n",
    "    if num not in lotto:\n",
    "        lotto.append(num)\n",
    "    if len(lotto) == 6:\n",
    "        break\n",
    "        \n",
    "print(lotto)"
   ]
  },
  {
   "cell_type": "code",
   "execution_count": 97,
   "id": "02332b4f",
   "metadata": {},
   "outputs": [
    {
     "name": "stdout",
     "output_type": "stream",
     "text": [
      "[4, 28, 22, 40, 43, 41]\n",
      "{4, 40, 41, 43, 22, 28}\n"
     ]
    }
   ],
   "source": [
    "# 중복되지 않은 난수 1~45까지의 7개의 수를 발생시키는 프로그램을 작성하시오. (set 사용)\n",
    "# set() : 중복 여부 확인용\n",
    "# list() : 로또 데이터를 담는 용으로 사용\n",
    "import random\n",
    "\n",
    "s = set()\n",
    "lotto = []\n",
    "\n",
    "while True:\n",
    "    num = random.randint(1, 45)\n",
    "    s.add(num)\n",
    "    if num not in lotto:\n",
    "        lotto.append(num)\n",
    "    if len(lotto) == 6:\n",
    "        break\n",
    "\n",
    "print(lotto)\n",
    "print(s)"
   ]
  },
  {
   "cell_type": "markdown",
   "id": "dd68ed74",
   "metadata": {},
   "source": [
    "# sys 모듈 p282\n"
   ]
  },
  {
   "cell_type": "code",
   "execution_count": 105,
   "id": "342cfcac",
   "metadata": {},
   "outputs": [
    {
     "name": "stdout",
     "output_type": "stream",
     "text": [
      "버전 :  3.9.13 (main, Aug 25 2022, 23:51:50) [MSC v.1916 64 bit (AMD64)]\n",
      "플랫폼 :  win32\n",
      "sys.getwindowsversion(major=10, minor=0, build=22621, platform=2, service_pack='')\n",
      "바이트 순서 :  little\n",
      "모듈 경로 :  ['C:\\\\workspace\\\\Test_Python\\\\Day_0314', 'C:\\\\Users\\\\user\\\\anaconda3\\\\python39.zip', 'C:\\\\Users\\\\user\\\\anaconda3\\\\DLLs', 'C:\\\\Users\\\\user\\\\anaconda3\\\\lib', 'C:\\\\Users\\\\user\\\\anaconda3', '', 'C:\\\\Users\\\\user\\\\anaconda3\\\\lib\\\\site-packages', 'C:\\\\Users\\\\user\\\\anaconda3\\\\lib\\\\site-packages\\\\win32', 'C:\\\\Users\\\\user\\\\anaconda3\\\\lib\\\\site-packages\\\\win32\\\\lib', 'C:\\\\Users\\\\user\\\\anaconda3\\\\lib\\\\site-packages\\\\Pythonwin', 'C:\\\\Users\\\\user\\\\anaconda3\\\\lib\\\\site-packages\\\\IPython\\\\extensions', 'C:\\\\Users\\\\user\\\\.ipython']\n"
     ]
    },
    {
     "ename": "SystemExit",
     "evalue": "0",
     "output_type": "error",
     "traceback": [
      "An exception has occurred, use %tb to see the full traceback.\n",
      "\u001b[1;31mSystemExit\u001b[0m\u001b[1;31m:\u001b[0m 0\n"
     ]
    }
   ],
   "source": [
    "import sys\n",
    " \n",
    "print('버전 : ', sys.version)\n",
    "print('플랫폼 : ', sys.platform)\n",
    "if(sys.platform == 'win32'):\n",
    "    print(sys.getwindowsversion())\n",
    "print('바이트 순서 : ', sys.byteorder)\n",
    "print('모듈 경로 : ', sys.path)\n",
    "sys.exit(0)"
   ]
  },
  {
   "cell_type": "code",
   "execution_count": 134,
   "id": "8810536f",
   "metadata": {},
   "outputs": [
    {
     "name": "stdout",
     "output_type": "stream",
     "text": [
      "9.433981132056603\n",
      "9.433981132056603\n"
     ]
    }
   ],
   "source": [
    "# p287\n",
    "# [문제3] \n",
    "import math\n",
    "\n",
    "base = 8\n",
    "height = 5\n",
    "print(math.sqrt(math.pow(base, 2) + math.pow(height, 2))) # sqrt : 제곱근으로 구하기, pow : 제곱\n",
    "length = math.hypot(base, height) # hypot : 피타고라스, x제곱 + y제곱의 제곱근\n",
    "print(length)"
   ]
  },
  {
   "cell_type": "code",
   "execution_count": 136,
   "id": "dee05fd7",
   "metadata": {},
   "outputs": [
    {
     "name": "stdout",
     "output_type": "stream",
     "text": [
      "9469\n"
     ]
    }
   ],
   "source": [
    "# [문제4]\n",
    "import sys\n",
    "import time\n",
    "\n",
    "brith = '19970410'\n",
    "\n",
    "tm = (int(brith[:4]), int(brith[4:6]), int(brith[6:8]), 0, 0, 0, 0, 0, 0)\n",
    "ellapse = int((time.time() - time.mktime(tm)) / (24 * 60 * 60))\n",
    "print(ellapse)"
   ]
  },
  {
   "cell_type": "code",
   "execution_count": 163,
   "id": "d995499b",
   "metadata": {},
   "outputs": [
    {
     "name": "stdout",
     "output_type": "stream",
     "text": [
      "[(1, 4), (2, 5), (3, 6)]\n",
      "[[1, 4], [2, 5], [3, 6]]\n"
     ]
    }
   ],
   "source": [
    "# [문제] : 아래의 a, b 리스트를 역행렬의 형태로 된 2차원으로 변경\n",
    "temp = 5 # scalar\n",
    "a = [1, 2, 3] # vetor\n",
    "b = [4, 5, 6] \n",
    "# c = [[1, 2, 3], [4, 5, 6]] : matrix\n",
    "# d = [[1, 4], [2, 5], [3, 6]]\n",
    "print(list(zip(a,b)))\n",
    "result = [[e for e in c] for c in zip(a, b)]\n",
    "print(result)"
   ]
  },
  {
   "cell_type": "code",
   "execution_count": 139,
   "id": "8d2d1d8d",
   "metadata": {},
   "outputs": [
    {
     "data": {
      "text/plain": [
       "[(1, 4), (2, 5), (3, 6)]"
      ]
     },
     "execution_count": 139,
     "metadata": {},
     "output_type": "execute_result"
    }
   ],
   "source": [
    "a = [[1, 2, 3], [4, 5, 6]]\n",
    "list(zip(*a)) # 2차원 일때 unpacking, *은 2차원 이상일때만 사용 가능"
   ]
  },
  {
   "cell_type": "code",
   "execution_count": 1,
   "id": "14c9e951",
   "metadata": {},
   "outputs": [
    {
     "data": {
      "text/plain": [
       "array([[1, 4],\n",
       "       [2, 5],\n",
       "       [3, 6]])"
      ]
     },
     "execution_count": 1,
     "metadata": {},
     "output_type": "execute_result"
    }
   ],
   "source": [
    "# [문제] : 아래의 2차원 리스트를 역행렬의 형태로 된 2차원으로 변경\n",
    "a = [[1, 2, 3], [4, 5, 6]]\n",
    "import numpy as np\n",
    "b = np.array(a)\n",
    "b.T"
   ]
  },
  {
   "cell_type": "code",
   "execution_count": 1,
   "id": "a877c5eb",
   "metadata": {},
   "outputs": [
    {
     "ename": "TypeError",
     "evalue": "unsupported operand type(s) for @: 'list' and 'list'",
     "output_type": "error",
     "traceback": [
      "\u001b[1;31m---------------------------------------------------------------------------\u001b[0m",
      "\u001b[1;31mTypeError\u001b[0m                                 Traceback (most recent call last)",
      "\u001b[1;32m~\\AppData\\Local\\Temp\\ipykernel_832\\3851314993.py\u001b[0m in \u001b[0;36m<module>\u001b[1;34m\u001b[0m\n\u001b[0;32m      3\u001b[0m \u001b[0mb\u001b[0m\u001b[1;33m=\u001b[0m \u001b[1;33m[\u001b[0m\u001b[1;33m[\u001b[0m\u001b[1;36m3\u001b[0m\u001b[1;33m,\u001b[0m \u001b[1;36m3\u001b[0m\u001b[1;33m]\u001b[0m\u001b[1;33m,\u001b[0m \u001b[1;33m[\u001b[0m\u001b[1;36m3\u001b[0m\u001b[1;33m,\u001b[0m \u001b[1;36m3\u001b[0m\u001b[1;33m]\u001b[0m\u001b[1;33m]\u001b[0m \u001b[1;31m# 2행 2열\u001b[0m\u001b[1;33m\u001b[0m\u001b[1;33m\u001b[0m\u001b[0m\n\u001b[0;32m      4\u001b[0m \u001b[1;33m\u001b[0m\u001b[0m\n\u001b[1;32m----> 5\u001b[1;33m \u001b[0mc\u001b[0m \u001b[1;33m=\u001b[0m \u001b[0ma\u001b[0m \u001b[1;33m@\u001b[0m \u001b[0mb\u001b[0m \u001b[1;31m# 사용법 알아올 것!\u001b[0m\u001b[1;33m\u001b[0m\u001b[1;33m\u001b[0m\u001b[0m\n\u001b[0m",
      "\u001b[1;31mTypeError\u001b[0m: unsupported operand type(s) for @: 'list' and 'list'"
     ]
    }
   ],
   "source": [
    "# 연산자 중 @\n",
    "a = [[1, 4], [3, 2], [4, 1]] # 3행 2열 Matrix\n",
    "b= [[3, 3], [3, 3]] # 2행 2열\n",
    "\n",
    "c = a @ b # 사용법 알아올 것!"
   ]
  }
 ],
 "metadata": {
  "kernelspec": {
   "display_name": "Python 3 (ipykernel)",
   "language": "python",
   "name": "python3"
  },
  "language_info": {
   "codemirror_mode": {
    "name": "ipython",
    "version": 3
   },
   "file_extension": ".py",
   "mimetype": "text/x-python",
   "name": "python",
   "nbconvert_exporter": "python",
   "pygments_lexer": "ipython3",
   "version": "3.9.13"
  }
 },
 "nbformat": 4,
 "nbformat_minor": 5
}
