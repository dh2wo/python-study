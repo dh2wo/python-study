{
 "cells": [
  {
   "cell_type": "markdown",
   "id": "a3c7860f",
   "metadata": {},
   "source": [
    "# 자료형\n",
    "- 정수형(integer)\n",
    "    - 2진수(Binary) : 0b\n",
    "    - 8진수(Octal Decimal) : 0o, 0O\n",
    "    - 10진수(Decimal)\n",
    "    - 16진수(Hexa Decimal) : 0x, 0X\n",
    " - 실수형(float)\n",
    "    - 0.45, 1.56e10\n",
    " - 복소수(실수부+허수부j)\n",
    " - Boolean\n",
    "     - 참(True)과 거짓(False)\n",
    "     - \"python\", 1, [1,2,3]은 True(값이 있을때) 나머지는 False"
   ]
  },
  {
   "cell_type": "code",
   "execution_count": null,
   "id": "9550d9df",
   "metadata": {},
   "outputs": [],
   "source": [
    "1 + True + False"
   ]
  },
  {
   "cell_type": "markdown",
   "id": "80cff45b",
   "metadata": {},
   "source": [
    "# 연산자(Operator)\n",
    "    - 단항연산자(Unary) : 피연산자가 1개\n",
    "    - 이항연산자(Binary) : 피연산자가 2개\n",
    "    - 삼항연산자X\n",
    "\n",
    "- 피연산자의 타입에 따라 달라지는 예\n",
    "    - + : 피연산자가 숫자면 더하기, 문자열이면 결합\n",
    "    - * : 피연산자가 숫자면 곱하기, 문자열이면 반복\n",
    "        \n",
    "- 연산의 결과에 따라\n",
    "    - 연산의 결과가 숫자인 경우 : \n",
    "    - 연산의 결과가 불타입인 경우 : "
   ]
  },
  {
   "cell_type": "code",
   "execution_count": 1,
   "id": "d50f75ea",
   "metadata": {},
   "outputs": [
    {
     "name": "stdout",
     "output_type": "stream",
     "text": [
      "더하기 :  32\n",
      "결합 :  서울 강남구\n",
      "곱하기 :  220\n",
      "반복 :  서울 서울 서울 서울 서울 \n",
      "나누기1 :  3.5 4.333333333333333\n",
      "나누기2 :  3 3.5\n",
      "몫 :  2.0 2.8\n",
      "나머지 :  1\n",
      "거듭제곱 :  1024\n"
     ]
    }
   ],
   "source": [
    "# 산술연산자\n",
    "# 더하기(+), 빼기(-), 곱하기(*), 나누기(/ : 실수), 나누기(// : 정수 - 몫), \n",
    "# 나머지(%), 거듭제곱(**)\n",
    "# 숫자를 부동소수점 방식으로 표현하기 : IEEE 754\n",
    "\n",
    "x = 10\n",
    "y = 22\n",
    "z = x + y\n",
    "print(\"더하기 : \", z)\n",
    "\n",
    "a = \"서울\"\n",
    "b = \"강남구\"\n",
    "c = a + \" \" + b\n",
    "print(\"결합 : \", c)\n",
    "\n",
    "print(\"곱하기 : \", x * y)\n",
    "print(\"반복 : \", (a + \" \") * 5)\n",
    "print(\"나누기1 : \", 7/2, 13/3)\n",
    "# print(\"나누기2 : \", 2/0, 2/0.0) : 0으로 나눌수X, \n",
    "# js에서의 결과는? 왜 Infinity가 나올까?\n",
    "print(\"나누기2 : \", 7//2, 7/2)\n",
    "print(\"몫 : \", 7//2.5, 7/2.5)\n",
    "print(\"나머지 : \", 7%2)\n",
    "print(\"거듭제곱 : \", 2**10)"
   ]
  },
  {
   "cell_type": "code",
   "execution_count": null,
   "id": "e1f84270",
   "metadata": {},
   "outputs": [],
   "source": [
    "# 관계연산자, 비교연산자 : 연산의 결과가 True, False\n",
    "# 비교연산자 : >(초과), <(미만), >=(이상), <=(이하), ==(같다), !=(같지않다)\n",
    "# 관계연산자 : and(모두 True면 True), or(하나라도 True면 True), not\n",
    "# > : <= , < : >=, and : or\n",
    "\n",
    "a = 10\n",
    "b = '10'\n",
    "c = 10\n",
    "print(a == b) #타입이 다름\n",
    "print(a == c)\n",
    "print(a > 10)\n",
    "print(a >= 10)\n",
    "\n",
    "# 키가 150 이상이거나, 나이가 10살 이상인경우에만 탑승하도록 하는 놀이기구\n",
    "height = 167.5\n",
    "age = 15\n",
    "height >= 150 or age >= 10"
   ]
  },
  {
   "cell_type": "code",
   "execution_count": null,
   "id": "6cf82d58",
   "metadata": {},
   "outputs": [],
   "source": [
    "# if 버전 1\n",
    "if 조건식 : \n",
    "    # 실행문\n",
    "    \n",
    "    \n",
    "# if 버전 2\n",
    "if 조건식 :\n",
    "    # 실행문1\n",
    "else :\n",
    "    # 실행문2\n",
    "    \n",
    "# if 버전 3\n",
    "if 조건식 :\n",
    "    # 실행문1\n",
    "elif 조건식2:\n",
    "    # 실행문2\n",
    "elif 조건식2:\n",
    "    # 실행문3\n",
    "else :\n",
    "    # 모든 조건에 거짓일때"
   ]
  },
  {
   "cell_type": "code",
   "execution_count": null,
   "id": "c1a9eb07",
   "metadata": {
    "scrolled": true
   },
   "outputs": [],
   "source": [
    "# [문제1] 키보드로부터 나이를 입력, 19세 이상이면 성인, 아니면 미성년자\n",
    "age = int(input(\"나이를 입력하세요 : \"))\n",
    "if age >= 19 :\n",
    "    print(\"성인\")\n",
    "else :\n",
    "    print(\"미성년자\")"
   ]
  },
  {
   "cell_type": "code",
   "execution_count": null,
   "id": "7c9bccfd",
   "metadata": {},
   "outputs": [],
   "source": [
    "# [문제2] 특정 숫자가 10~20사이인지 확인하는 코드를 작성하시오\n",
    "num = int(input(\"정수를 입력하세요 : \"))\n",
    "if (num >= 10 and num <= 20):\n",
    "    print(\"범주 내\")\n",
    "else:\n",
    "    print(\"범주 외\")\n",
    "\n",
    "#not을 붙히면 이상은 미만, 이하는 초과, and는 or로 바꿔야한다.\n",
    "if not(num < 10 or num > 20):\n",
    "    print(\"범주 내\")\n",
    "else:\n",
    "    print(\"범주 외\")"
   ]
  },
  {
   "cell_type": "code",
   "execution_count": null,
   "id": "560900e3",
   "metadata": {},
   "outputs": [],
   "source": [
    "# 비트(bit) 관련 연산자\n",
    "# | & ^(XOR) ~ >> <<\n",
    "# 1bit = 8byte\n",
    "\n",
    "# 10진수  2진수                   32비트\n",
    "# 10 ==> 1010 : 0000 0000 0000 0000 0000 0000 0000 1010\n",
    "#          ~    1111 1111 1111 1111 1111 1111 1111 1010\n",
    "# 11 ==> 1011 : 0000 0000 0000 0000 0000 0000 0000 1011\n",
    "\n",
    "a = 10\n",
    "b = 11\n",
    "print(a & b)\n",
    "print(a | b)\n",
    "print(a ^ b)\n",
    "print(~a) # 음수로 바뀜 (1의보수, 2의보수:음수를 표현하는 방식) \n",
    "print(a >> 1)\n",
    "print(a >> 4)\n",
    "c = 1 \n",
    "print(c << 1)\n",
    "c = -1 # 1111 1111 1111 1111 1111 1111 1111 1111\n",
    "print(c >> 1)\n",
    "print(c << 1)"
   ]
  },
  {
   "cell_type": "code",
   "execution_count": null,
   "id": "92d5a090",
   "metadata": {},
   "outputs": [],
   "source": [
    "# 대입연산자\n",
    "# LV(변수) = RV(값, 수식, 변수)\n",
    "a, b = 10, 20\n",
    "print(a, b)\n",
    "\n",
    "a, b = b, a\n",
    "print(a, b)"
   ]
  },
  {
   "cell_type": "code",
   "execution_count": null,
   "id": "a0967a4c",
   "metadata": {},
   "outputs": [],
   "source": [
    "# 복합대입연산자\n",
    "a = 1\n",
    "a = a + 1\n",
    "a += 1\n",
    "print(a)\n",
    "a = 1\n",
    "a = --a\n",
    "print(a)"
   ]
  },
  {
   "cell_type": "code",
   "execution_count": null,
   "id": "95997453",
   "metadata": {},
   "outputs": [],
   "source": [
    "# [문제] 전자제품 구매 (250만원) 12개월할부로 구매했다. 한달에 얼마씩?\n",
    "price = 2500000 // 12\n",
    "print(price)"
   ]
  },
  {
   "cell_type": "code",
   "execution_count": null,
   "id": "91dd2658",
   "metadata": {},
   "outputs": [],
   "source": [
    "# 데이터가 비어있으면 False\n",
    "print(bool([]))\n",
    "print(bool(\"korea\"))\n",
    "print(bool(0))\n",
    "print(bool(42.195))"
   ]
  },
  {
   "cell_type": "code",
   "execution_count": null,
   "id": "874e080e",
   "metadata": {},
   "outputs": [],
   "source": [
    "# [문제3] 어느 놀이동산에서 입장료는 성인기준 13000원\n",
    "# 7살미만이면 5% 할인, 65세이상 5%할인\n",
    "# 나이를 입력받아 입장료를 계산하시오\n",
    "\n",
    "price = 13000\n",
    "age = int(input(\"나이를 입력하세요 : \"))\n",
    "if age <= 8 or age >= 65:\n",
    "    print(round(price * 0.95))\n",
    "else:\n",
    "    print(round(price))"
   ]
  },
  {
   "cell_type": "code",
   "execution_count": null,
   "id": "ed913689",
   "metadata": {},
   "outputs": [],
   "source": [
    "# [문제4] 어느 놀이동산에서 입장료는 성인기준 13000원\n",
    "# 일행의 수를 입력받고, 할인을 받을수 있는 나이의 인원수를 입력 받는다\n",
    "# 7살미만이면 5% 할인, 65세이상 5%할인\n",
    "\n",
    "price = 13000\n",
    "cnt = int(input(\"몇명? : \"))\n",
    "dcnt = int(input(\"할인 받을 수 있는 인원수? : \"))\n",
    "\n",
    "if dcnt > cnt:\n",
    "    print(price * cnt)\n",
    "else:\n",
    "    print(\"입장료 : \", round(price * (cnt-dcnt) + (price * 0.95) * dcnt), \"원\")"
   ]
  },
  {
   "cell_type": "code",
   "execution_count": null,
   "id": "857b8421",
   "metadata": {},
   "outputs": [],
   "source": [
    "# [문제5] 키(cm), 몸무게(kg) 입력받는다. bmi를 구하시오\n",
    "# bmi = 몸무게(kg) / 키(m)의 제곱\n",
    "height = float(input(\"키 : \"))\n",
    "weight = float(input(\"몸무게 : \"))\n",
    "bmi = weight / (height * 0.01) ** 2\n",
    "result = None\n",
    "\n",
    "if bmi >= 35:\n",
    "    result = \"비만\"\n",
    "elif bmi >= 30:\n",
    "    result = \"중도비만\"\n",
    "elif bmi >= 25:\n",
    "    result = \"경도비만\"\n",
    "elif bmi >= 23:\n",
    "    result = \"과체중\"\n",
    "elif bmi >= 18.5:\n",
    "    result = \"정상\"\n",
    "else:\n",
    "    result = \"저체중\"\n",
    "\n",
    "print(\"키 : \", height, \", \", \"몸무게 : \", weight)\n",
    "print(\"BMI : \", bmi, \", \", \"결과 : \", result)"
   ]
  },
  {
   "cell_type": "markdown",
   "id": "059cfe2e",
   "metadata": {},
   "source": [
    "# 반복문\n",
    "- while<br>\n",
    "`while 조건식 :\n",
    "    실행문`\n",
    "    \n",
    "- for\n"
   ]
  },
  {
   "cell_type": "code",
   "execution_count": null,
   "id": "db426e6d",
   "metadata": {},
   "outputs": [],
   "source": [
    "i = 0\n",
    "while i < 10:\n",
    "    print(\"*\", end = \"\")\n",
    "    i += 1"
   ]
  },
  {
   "cell_type": "code",
   "execution_count": null,
   "id": "fc629376",
   "metadata": {},
   "outputs": [],
   "source": [
    "# [문제6] 카운트(정수)를 입력받아 그 수만큼 *을 출력하는 코드를 작성하시오\n",
    "cnt = int(input(\"정수 : \"))\n",
    "i = 0\n",
    "\n",
    "while i < cnt:\n",
    "    print(\"*\", end = \"\")\n",
    "    i += 1"
   ]
  },
  {
   "cell_type": "code",
   "execution_count": null,
   "id": "efefa2b9",
   "metadata": {},
   "outputs": [],
   "source": [
    "# while else\n",
    "n = 10; sum = 0; i = 1\n",
    "\n",
    "while i <= n:\n",
    "    sum += i\n",
    "    i += 1\n",
    "else: \n",
    "    print(\"The sum is\", sum)"
   ]
  },
  {
   "cell_type": "code",
   "execution_count": null,
   "id": "7c6e1201",
   "metadata": {},
   "outputs": [],
   "source": [
    "for item in ['One', 'Two', 'Three']:\n",
    "    print(item)\n",
    "\n",
    "for item in [1, 2, 3, 4, 5, 6, 7, 8, 9, 10]:\n",
    "    print(item, end = ' ')"
   ]
  },
  {
   "cell_type": "code",
   "execution_count": null,
   "id": "3a7a577d",
   "metadata": {},
   "outputs": [],
   "source": [
    "# for in 반복문으로 1~100 까지 짝수의 합계를 구하시오\n",
    "sum = 0\n",
    "for i in range(2, 101, 2):\n",
    "    sum += i\n",
    "else:\n",
    "    print('1 ~ 100 짝수 합계 : ', sum)"
   ]
  },
  {
   "cell_type": "code",
   "execution_count": null,
   "id": "227ba707",
   "metadata": {},
   "outputs": [],
   "source": [
    "my_list = [(1, 2), (3, 4), (5, 6)]\n",
    "for item in my_list:\n",
    "    print(item)"
   ]
  },
  {
   "cell_type": "code",
   "execution_count": 1,
   "id": "430cc9cd",
   "metadata": {
    "scrolled": true
   },
   "outputs": [
    {
     "name": "stdout",
     "output_type": "stream",
     "text": [
      "1 2\n",
      "3 4\n",
      "5 6\n",
      "1\n",
      "3\n",
      "5\n"
     ]
    }
   ],
   "source": [
    "my_list = [(1, 2), (3, 4), (5, 6)]\n",
    "for i, j in my_list:\n",
    "    print(i, j)\n",
    "    \n",
    "my_list = [(1, 2), (3, 4), (5, 6)]\n",
    "for i, _ in my_list: #_ : 값 안받기 (2, 4, 6)\n",
    "    print(i)\n",
    "\n",
    "del(j) #전역변수(메모리)에 남아있는 j값 제거"
   ]
  },
  {
   "cell_type": "code",
   "execution_count": 2,
   "id": "98ffd737",
   "metadata": {},
   "outputs": [
    {
     "name": "stdout",
     "output_type": "stream",
     "text": [
      "0\n",
      "1\n",
      "2\n",
      "3\n",
      "4\n"
     ]
    }
   ],
   "source": [
    "# range(start, stop)\n",
    "for a in range(5): #start 생략 (0)\n",
    "    print(a)"
   ]
  },
  {
   "cell_type": "code",
   "execution_count": null,
   "id": "d3a516cb",
   "metadata": {},
   "outputs": [],
   "source": [
    "# [문제7] 데이터(숫자)를 계속 입력받다가 누적 음수가 입력되면 종료\n",
    "sum = 0\n",
    "while True:\n",
    "    num = int(input(\"정수 : \"))\n",
    "    if num < 0: \n",
    "        break\n",
    "    sum += num\n",
    "print(\"합 : \", sum)"
   ]
  },
  {
   "cell_type": "code",
   "execution_count": null,
   "id": "b79db999",
   "metadata": {},
   "outputs": [],
   "source": [
    "# [문제8] 문자를 입력받는다. \n",
    "# 소문자가 입력되면 \"소문자\", 대문자가 입력되면 \"대문자\"\n",
    "a = ord(input(\"문자 : \"))\n",
    "if a >= 95 and a <= 122:\n",
    "    print(\"소문자\", a)\n",
    "else:\n",
    "    print(\"대문자\", a)\n",
    "\n",
    "data = input(\"문자 : \")\n",
    "if data >= 'a' and data <= 'z':\n",
    "    print(\"소문자\")\n",
    "elif data >= 'A' and data <= 'Z':\n",
    "    print(\"대문자\")\n",
    "else:\n",
    "    print(\"잘못 입력\")"
   ]
  },
  {
   "cell_type": "code",
   "execution_count": 3,
   "id": "e53038aa",
   "metadata": {},
   "outputs": [
    {
     "name": "stdout",
     "output_type": "stream",
     "text": [
      "2 단\n",
      "2  *  1  =  2\n",
      "2  *  2  =  4\n",
      "\n",
      "3 단\n",
      "3  *  1  =  3\n",
      "3  *  2  =  6\n",
      "\n",
      "4 단\n",
      "4  *  1  =  4\n",
      "4  *  2  =  8\n",
      "\n",
      "5 단\n",
      "5  *  1  =  5\n",
      "5  *  2  =  10\n",
      "\n",
      "6 단\n",
      "6  *  1  =  6\n",
      "6  *  2  =  12\n",
      "\n",
      "7 단\n",
      "7  *  1  =  7\n",
      "7  *  2  =  14\n",
      "\n",
      "8 단\n",
      "8  *  1  =  8\n",
      "8  *  2  =  16\n",
      "\n",
      "9 단\n",
      "9  *  1  =  9\n",
      "9  *  2  =  18\n",
      "\n",
      "끝\n",
      "2 단\n",
      "3 단\n",
      "3  *  1  =  3\n",
      "3  *  2  =  6\n",
      "3  *  3  =  9\n",
      "3  *  4  =  12\n",
      "3  *  5  =  15\n",
      "3  *  6  =  18\n",
      "3  *  7  =  21\n",
      "3  *  8  =  24\n",
      "3  *  9  =  27\n",
      "\n",
      "4 단\n",
      "5 단\n",
      "5  *  1  =  5\n",
      "5  *  2  =  10\n",
      "5  *  3  =  15\n",
      "5  *  4  =  20\n",
      "5  *  5  =  25\n",
      "5  *  6  =  30\n",
      "5  *  7  =  35\n",
      "5  *  8  =  40\n",
      "5  *  9  =  45\n",
      "\n",
      "6 단\n",
      "7 단\n",
      "7  *  1  =  7\n",
      "7  *  2  =  14\n",
      "7  *  3  =  21\n",
      "7  *  4  =  28\n",
      "7  *  5  =  35\n",
      "7  *  6  =  42\n",
      "7  *  7  =  49\n",
      "7  *  8  =  56\n",
      "7  *  9  =  63\n",
      "\n",
      "8 단\n",
      "9 단\n",
      "9  *  1  =  9\n",
      "9  *  2  =  18\n",
      "9  *  3  =  27\n",
      "9  *  4  =  36\n",
      "9  *  5  =  45\n",
      "9  *  6  =  54\n",
      "9  *  7  =  63\n",
      "9  *  8  =  72\n",
      "9  *  9  =  81\n",
      "\n",
      "끝\n"
     ]
    }
   ],
   "source": [
    "for dan in range(2, 10):\n",
    "    print(dan, \"단\")\n",
    "    for hang in range(1, 10):\n",
    "        print(dan, \" * \", hang, \" = \", dan * hang)\n",
    "        if(hang % 2 == 0):\n",
    "            break # 감싸고 잇는 하나의 반복문만 벗어남\n",
    "    print()\n",
    "print(\"끝\")\n",
    "\n",
    "for dan in range(2, 10):\n",
    "    print(dan, \"단\")\n",
    "    if(dan % 2 == 0):\n",
    "        continue # 아래는 스킵\n",
    "    for hang in range(1, 10):\n",
    "        print(dan, \" * \", hang, \" = \", dan * hang)\n",
    "    print()\n",
    "print(\"끝\")"
   ]
  },
  {
   "cell_type": "code",
   "execution_count": 12,
   "id": "d34b844d",
   "metadata": {},
   "outputs": [
    {
     "name": "stdout",
     "output_type": "stream",
     "text": [
      "         *\n",
      "        **\n",
      "       ***\n",
      "      ****\n",
      "     *****\n",
      "    ******\n",
      "   *******\n",
      "  ********\n",
      " *********\n",
      "**********\n"
     ]
    }
   ],
   "source": [
    "# [문제] 별 출력 p137 문제6\n",
    "for i in range(1, 11):\n",
    "    print(' ' * (10-i), end = '')\n",
    "    print(\"*\" * i)"
   ]
  },
  {
   "cell_type": "code",
   "execution_count": 39,
   "id": "77ce82e6",
   "metadata": {
    "scrolled": true
   },
   "outputs": [
    {
     "name": "stdout",
     "output_type": "stream",
     "text": [
      "         *\n",
      "        ***\n",
      "       *****\n",
      "      *******\n",
      "     *********\n",
      "    ***********\n",
      "   *************\n",
      "  ***************\n",
      " *****************\n",
      "*******************\n"
     ]
    }
   ],
   "source": [
    "# [문제] 별 출력 p137 문제7\n",
    "for i in range(1, 11):\n",
    "    print(' ' * (10-i), end = '')\n",
    "    print((i*2-1) * '*')\n"
   ]
  },
  {
   "cell_type": "code",
   "execution_count": 5,
   "id": "5bec3bf1",
   "metadata": {},
   "outputs": [
    {
     "name": "stdout",
     "output_type": "stream",
     "text": [
      "12 크다\n"
     ]
    }
   ],
   "source": [
    "# 삼항 연산자 (Tenary Operators)\n",
    "# Java에서는\n",
    "# int a = (조건식) ? 표현식 : 표현식\n",
    "# String result = (value >= 10) ? \"크다\" : \"작다\"\n",
    "# if 조건식:\n",
    "#     참표현식 or 참명령문\n",
    "# else:\n",
    "#     거짓표현식 or 거짓명령문\n",
    "    \n",
    "# 변수 = 참표현식 if 조건식 else 거짓표현식 (책에X)\n",
    "a = 12\n",
    "b = \"크다\" if a >= 10 else \"작다\"\n",
    "# b = print(\"크다\") if a >= 10 else print(\"작다\") #print문은 변수에 저장되지X\n",
    "print(a, b)"
   ]
  },
  {
   "cell_type": "code",
   "execution_count": 24,
   "id": "4f53f4d4",
   "metadata": {},
   "outputs": [
    {
     "name": "stdout",
     "output_type": "stream",
     "text": [
      "정수 : 52\n",
      "52 는 짝수\n"
     ]
    }
   ],
   "source": [
    "# [문제] 정수를 입력받는다. reult에 홀수인지 짝수인지 담은 후 출력하시오\n",
    "value = int(input(\"정수 : \"))\n",
    "result = \"짝수\" if value % 2 == 0 else \"홀수\"\n",
    "print(value, \"는\", result)"
   ]
  },
  {
   "cell_type": "markdown",
   "id": "ee02133c",
   "metadata": {},
   "source": [
    "문자열은 immutable(불변)한 데이터\n",
    "ex) a = \"첫번째\"\n",
    "    a = \"두번째\"\n",
    "경우 첫번째는 남아있고 새로운(다른) a변수에 두번째가 담긴다.?"
   ]
  }
 ],
 "metadata": {
  "kernelspec": {
   "display_name": "Python 3 (ipykernel)",
   "language": "python",
   "name": "python3"
  },
  "language_info": {
   "codemirror_mode": {
    "name": "ipython",
    "version": 3
   },
   "file_extension": ".py",
   "mimetype": "text/x-python",
   "name": "python",
   "nbconvert_exporter": "python",
   "pygments_lexer": "ipython3",
   "version": "3.9.13"
  },
  "toc": {
   "base_numbering": 1,
   "nav_menu": {},
   "number_sections": true,
   "sideBar": true,
   "skip_h1_title": false,
   "title_cell": "Table of Contents",
   "title_sidebar": "Contents",
   "toc_cell": false,
   "toc_position": {},
   "toc_section_display": true,
   "toc_window_display": false
  }
 },
 "nbformat": 4,
 "nbformat_minor": 5
}
