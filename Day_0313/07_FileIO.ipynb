{
 "cells": [
  {
   "cell_type": "markdown",
   "id": "7c666978",
   "metadata": {},
   "source": [
    "# 파일 입출력 p304\n",
    " - open(파일경로, 모드)\n",
    "    - 모드 : r(읽기), w(쓰기, 기존 데이터 삭제(덮어쓰기)), a(데이터 추가), x(쓰기, 이미 있으면 실패)\n",
    " - 변수명.close() 필수\n",
    "     - read()는 close() 굳이 필요 없지만 쓰자\n",
    " "
   ]
  },
  {
   "cell_type": "code",
   "execution_count": null,
   "id": "6b5f22ab",
   "metadata": {},
   "outputs": [],
   "source": [
    "help(open)"
   ]
  },
  {
   "cell_type": "code",
   "execution_count": null,
   "id": "db9ea97b",
   "metadata": {},
   "outputs": [],
   "source": [
    "data = \"\"\"삶이 그대를 속일지라도\n",
    "슬퍼하거나 노하지 말라!\n",
    "우울한 날들을 견디면\n",
    "믿으라, 기쁨의 날이 오리니\"\"\"\n",
    "\n",
    "f = open('song1.txt', 'wt', encoding = 'UTF-8') # write, text\n",
    "f.write(data) # write모드 = f.write 맞춰줘야 함\n",
    "f.close()\n",
    "print('저장 완료!')\n",
    "\n",
    "# 파일이 없을 떄\n",
    "try:\n",
    "    f = open('song1.txt','rt', encoding = 'UTF-8')\n",
    "    text = f.read()\n",
    "    print(text)\n",
    "except FileNotFoundError:\n",
    "    print(\"파일이 없습니다.\")\n",
    "finally:\n",
    "    f.close()"
   ]
  },
  {
   "cell_type": "code",
   "execution_count": null,
   "id": "b0a8f3ca",
   "metadata": {},
   "outputs": [],
   "source": [
    "f = open('song1.txt', 'rt', encoding = 'UTF-8')\n",
    "text = f.read()\n",
    "print(text)"
   ]
  },
  {
   "cell_type": "code",
   "execution_count": null,
   "id": "e998488f",
   "metadata": {},
   "outputs": [],
   "source": [
    "# read mode로 오픈할 때에는 반드시 해당 파일이 존재\n",
    "# 파일이 없을 때 try~except 처리\n",
    "try:\n",
    "    f = open('song2.txt', 'rt', encoding = 'UTF-8')\n",
    "    text = f.read()\n",
    "    print(text)\n",
    "except FileNotFoundError:\n",
    "    print('파일이 존재하지 않습니다.')\n",
    "finally: # 오류가 발생을 하든, 하지않든 무조건 처리해야하는 문장\n",
    "    f.colse()"
   ]
  },
  {
   "cell_type": "code",
   "execution_count": null,
   "id": "57a39511",
   "metadata": {},
   "outputs": [],
   "source": [
    "# readlines() : 한 줄씩 읽기\n",
    "f = open('song1.txt', 'rt', encoding = 'UTF-8')\n",
    "txt = f.readlines() # 줄 단위로 list로 저장\n",
    "print(txt)"
   ]
  },
  {
   "cell_type": "code",
   "execution_count": null,
   "id": "8f5983aa",
   "metadata": {},
   "outputs": [],
   "source": [
    "# readline() : 한 줄만 읽기\n",
    "f = open('song1.txt', 'rt', encoding = 'UTF-8')\n",
    "txt = f.readline()\n",
    "print(txt)"
   ]
  },
  {
   "cell_type": "code",
   "execution_count": null,
   "id": "c5885dcb",
   "metadata": {},
   "outputs": [],
   "source": [
    "# readline() : 한 줄만 읽기\n",
    "f = open('song1.txt', 'rt', encoding = 'UTF-8')\n",
    "\n",
    "# for문으로 한 줄씩 전체 출력\n",
    "for txt in f.readlines():\n",
    "    print(txt, end = '')"
   ]
  },
  {
   "cell_type": "code",
   "execution_count": null,
   "id": "1b4825a5",
   "metadata": {},
   "outputs": [],
   "source": [
    "# [문제] score.tx를 읽어\n",
    "# 번호 이름 국어 영어 수학 합계 평균을 구하여 포맷에 맞춰서 출력하시오\n",
    "s = open('score.txt', 'rt', encoding = 'UTF-8')\n",
    "score = s.readlines()\n",
    "\n",
    "print('번호\\t이름\\t국어\\t영어\\t수학\\t총점\\t평균')\n",
    "\n",
    "for item in score[1:]:\n",
    "    num, name, kor, eng, math = item.split()\n",
    "    kor, eng, math = int(kor), int(eng), int(math)\n",
    "    total = kor + eng + math\n",
    "    avg = total / 3.0\n",
    "    result = f\"{num}\\t{name}\\t{kor}\\t{eng}\\t{math}\\t{total}\\t{avg:.2f}\"\n",
    "    print(result)"
   ]
  },
  {
   "cell_type": "code",
   "execution_count": null,
   "id": "1d71f981",
   "metadata": {
    "scrolled": true
   },
   "outputs": [],
   "source": [
    "f = open(\"score.txt\",'rt',encoding=\"utf-8\")\n",
    "\n",
    "data = str(f.read())\n",
    "# print(f.readlines())를 사용해보니 \\n으로 나뉘어져 있길래 나도 \\n으로 나눠봄(한줄 단위)\n",
    "a = data.split('\\n')\n",
    "# 나눈 한줄을 공백으로 분리 \n",
    "b = a[0].split()\n",
    "# 나눠진 글자가 '번호','이름','국어','영어','수학' 5가지라서 범위 0부터 5까지 줌\n",
    "for i in range(0,5):\n",
    "    # 첫줄은 나눠진 글자들을 추가해주고\n",
    "    print(b[i]+\"\\t\",end=\"\")\n",
    "    #뒤에 총점과 평균을 추가해줌\n",
    "print(\"총점 \\t 평균\")\n",
    "\n",
    "#첫줄을 제외한 사람들을 표현하기 위해 1~6까지 반복\n",
    "for i in range(1,6):\n",
    "    # 공백으로 나눈 값들을 넣어줌\n",
    "    line,name,kor,eng,math = a[i].split()\n",
    "    total = int(kor)+int(eng)+int(math) #합계\n",
    "    avg = round(total/3) #평균\n",
    "    print(line+\"\\t\",name+\"\\t\",kor+\"\\t\",eng+\"\\t\",math+\"\\t\",str(total)+\"\\t\",avg) \n",
    "f.close()"
   ]
  },
  {
   "cell_type": "code",
   "execution_count": 37,
   "id": "9ace7f2b",
   "metadata": {},
   "outputs": [
    {
     "name": "stdout",
     "output_type": "stream",
     "text": [
      "1 홍길동  98 100  89  287 95.67\n",
      "2 임꺽정  88  78  79  245 81.67\n",
      "3 손오공  78  67  66  211 70.33\n",
      "4 저팔계  99  89  70  258 86.00\n",
      "5 사오정  89  98  99  286 95.33\n"
     ]
    }
   ],
   "source": [
    "# t\n",
    "def process(score): # score :list\n",
    "    num = score[0]\n",
    "    name = score[1]\n",
    "    \n",
    "    s = [int(data) for data in score[2:]]\n",
    "    total = sum(s)\n",
    "    avg = total / len(s)\n",
    "    output = '%s %s %3d %3d %3d %4d %.2f' % (num, name, s[0], s[1], s[2], total, avg)\n",
    "    print(output)\n",
    "    \n",
    "s = open('score.txt', 'rt', encoding = 'UTF-8')\n",
    "score = s.readlines()\n",
    "\n",
    "for item in score[1:]:\n",
    "    process(item.split())\n",
    "\n",
    "s.close()"
   ]
  },
  {
   "cell_type": "code",
   "execution_count": 38,
   "id": "7a9fc234",
   "metadata": {
    "scrolled": true
   },
   "outputs": [
    {
     "name": "stdout",
     "output_type": "stream",
     "text": [
      "=====[ 1 반 ]=====\n",
      "1 홍길동  98 100  89  287 95.67\n",
      "2 임꺽정  88  78  79  245 81.67\n",
      "3 손오공  78  67  66  211 70.33\n",
      "4 저팔계  99  89  70  258 86.00\n",
      "5 사오정  89  98  99  286 95.33\n",
      "=====[ 2 반 ]=====\n",
      "1 김길동  98 100  89  287 95.67\n",
      "2 최걱정  88  78  79  245 81.67\n",
      "3 김순신  78  67  66  211 70.33\n",
      "4 이만복  99  89  70  258 86.00\n",
      "5 한라산  89  98  99  286 95.33\n",
      "=====[ 3 반 ]=====\n",
      "1 피카츄  98 100  89  287 95.67\n",
      "2 라이츄  88  78  79  245 81.67\n",
      "3 파이리  78  67  66  211 70.33\n",
      "4 꼬부기  99  89  70  258 86.00\n",
      "5 버터플  89  98  99  286 95.33\n"
     ]
    }
   ],
   "source": [
    "# 여러 반 학생들의 성적을 함께 처리하고자 한다면???\n",
    "import glob                                 #주로 큰 데이터를 처리할 때 사용\n",
    "all_class = sorted(glob.glob('class*.txt')) #sorted(정렬)\n",
    "#print(all_class) #읽어온 파일 확인\n",
    "\n",
    "def process(score): # score :list\n",
    "    num = score[0]\n",
    "    name = score[1]\n",
    "    \n",
    "    s = [int(data) for data in score[2:]]\n",
    "    total = sum(s)\n",
    "    avg = total / len(s)\n",
    "    output = '%s %s %3d %3d %3d %4d %.2f' % (num, name, s[0], s[1], s[2], total, avg)\n",
    "    print(output)\n",
    "\n",
    "for i in range(len(all_class)):\n",
    "    print(f\"=====[ {i+1} 반 ]=====\")\n",
    "\n",
    "    s = open(all_class[i], 'rt', encoding = 'UTF-8')\n",
    "    score = s.readlines()\n",
    "    \n",
    "    for item in score[1:]:\n",
    "        process(item.split())\n",
    "\n",
    "    s.close()"
   ]
  },
  {
   "cell_type": "code",
   "execution_count": 15,
   "id": "c883db8d",
   "metadata": {
    "scrolled": true
   },
   "outputs": [
    {
     "name": "stdout",
     "output_type": "stream",
     "text": [
      "1 홍길동  98 100  89  287 95.67\n",
      "2 임꺽정  88  78  79  245 81.67\n",
      "3 손오공  78  67  66  211 70.33\n",
      "4 저팔계  99  89  70  258 86.00\n",
      "5 사오정  89  98  99  286 95.33\n"
     ]
    }
   ],
   "source": [
    "# 학생 수가 몇 명인지 모르는 상태로 큰 용량의 데이터를 처리해야 한다면\n",
    "# readlines()는 적합하지 않다 ==> readline()사용\n",
    "import glob                                 #주로 큰 데이터를 처리할 때 사용\n",
    "all_class = sorted(glob.glob('class*.txt')) #sorted(정렬) #glob.glob() : 패턴과 일치하는 목록 나열\n",
    "#print(all_class) #읽어온 파일 확인\n",
    "\n",
    "def process(score): # score :list\n",
    "    num = score[0]\n",
    "    name = score[1]\n",
    "    \n",
    "    s = [int(data) for data in score[2:]]\n",
    "    total = sum(s)\n",
    "    avg = total / len(s)\n",
    "    output = '%s %s %3d %3d %3d %4d %.2f' % (num, name, s[0], s[1], s[2], total, avg)\n",
    "    print(output)\n",
    "\n",
    "s = open('score.txt', 'rt', encoding = 'UTF-8')\n",
    "s.readline() # 첫 줄을 날리기 위한 코드\n",
    "\n",
    "while True:\n",
    "    item = s.readline() # 실제 학생의 성적을 읽기 위한 코드\n",
    "    if len(item) == 0: break #읽을 데이터가 없을 때 break\n",
    "    process(item.split())\n",
    "\n",
    "\n",
    "s.close()"
   ]
  },
  {
   "cell_type": "markdown",
   "id": "52f2a2b2",
   "metadata": {},
   "source": [
    "# Day_0314"
   ]
  },
  {
   "cell_type": "code",
   "execution_count": 27,
   "id": "1e3e63ad",
   "metadata": {},
   "outputs": [
    {
     "name": "stdout",
     "output_type": "stream",
     "text": [
      "복사 완료!\n"
     ]
    }
   ],
   "source": [
    "# binary 파일의 처리\n",
    "fi = open('./smile.png', mode = 'rb') # ./ 생략 가능\n",
    "fo = open('./smile_copyed.png', mode = 'wb') # 복사해서 쓰기\n",
    "\n",
    "data = fi.read()\n",
    "fo.write(data)\n",
    "\n",
    "fi.close()\n",
    "fo.close()\n",
    "print(\"복사 완료!\")"
   ]
  },
  {
   "cell_type": "code",
   "execution_count": 28,
   "id": "f3633f8f",
   "metadata": {},
   "outputs": [
    {
     "name": "stdout",
     "output_type": "stream",
     "text": [
      "1 홍길동  98 100  89  287 95.67\n",
      "2 임꺽정  88  78  79  245 81.67\n",
      "3 손오공  78  67  66  211 70.33\n",
      "4 저팔계  99  89  70  258 86.00\n",
      "5 사오정  89  98  99  286 95.33\n"
     ]
    }
   ],
   "source": [
    "# with 명령문을 이용한 파일의  open ==> close()가 자동\n",
    "# with open() as x:\n",
    "\n",
    "def process(score): # score :list\n",
    "    num = score[0]\n",
    "    name = score[1]\n",
    "    \n",
    "    s = [int(data) for data in score[2:]]\n",
    "    total = sum(s)\n",
    "    avg = total / len(s)\n",
    "    output = '%s %s %3d %3d %3d %4d %.2f' % (num, name, s[0], s[1], s[2], total, avg)\n",
    "    print(output)\n",
    "\n",
    "with open('score.txt', 'rt', encoding = 'UTF-8') as s :\n",
    "    score = s.readlines()\n",
    "    for item in score[1:]:\n",
    "        process(item.split())"
   ]
  },
  {
   "cell_type": "code",
   "execution_count": 43,
   "id": "81a4bde8",
   "metadata": {},
   "outputs": [
    {
     "name": "stdout",
     "output_type": "stream",
     "text": [
      "['.ipynb_checkpoints', '06_lambda.ipynb', '07_FileIO.ipynb', 'class_1.txt', 'class_2.txt', 'class_3.txt', 'score.txt', 'smile.png', 'smile_copyed.png', 'song1.txt'] \n",
      "\n",
      "1 .ipynb_checkpoints\n",
      "2 06_lambda.ipynb\n",
      "3 07_FileIO.ipynb\n",
      "4 class_1.txt\n",
      "5 class_2.txt\n",
      "6 class_3.txt\n",
      "7 score.txt\n",
      "8 smile.png\n",
      "9 smile_copyed.png\n",
      "10 song1.txt\n"
     ]
    }
   ],
   "source": [
    "# Day_0313 내부 목록 출력\n",
    "import os\n",
    "\n",
    "files = sorted(os.listdir(\"./\")) #sorted(정렬)\n",
    "print(files,\"\\n\")\n",
    "i = 1\n",
    "for f in files:\n",
    "    print(i,f)\n",
    "    i += 1"
   ]
  }
 ],
 "metadata": {
  "kernelspec": {
   "display_name": "Python 3 (ipykernel)",
   "language": "python",
   "name": "python3"
  },
  "language_info": {
   "codemirror_mode": {
    "name": "ipython",
    "version": 3
   },
   "file_extension": ".py",
   "mimetype": "text/x-python",
   "name": "python",
   "nbconvert_exporter": "python",
   "pygments_lexer": "ipython3",
   "version": "3.9.13"
  }
 },
 "nbformat": 4,
 "nbformat_minor": 5
}
