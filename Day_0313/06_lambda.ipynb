{
 "cells": [
  {
   "cell_type": "markdown",
   "id": "e7368062",
   "metadata": {},
   "source": [
    "# 컬렉션 관리 함수 p242\n",
    " - enumerate(컬렉션) : 컬렉션이 index와 요소값을 반환해주는 내장함수\n",
    " - zip() : 여러 개의 컬렉션을 하나로 합쳐서 반환해주는 내장함수\n",
    " <br><br>\n",
    " - anyall\n",
    "     - any() : 전달인자로 받은 데이터 중 하나라도 True이면 True (or)\n",
    "     - all() : 전달인자로 받은 데이터 모두 True여야 True (and)"
   ]
  },
  {
   "cell_type": "code",
   "execution_count": 4,
   "id": "4a4ee46a",
   "metadata": {},
   "outputs": [
    {
     "name": "stdout",
     "output_type": "stream",
     "text": [
      "<enumerate object at 0x000002266DB31640>\n",
      "[(0, '저그'), (1, '테란'), (2, '프로토스')]\n",
      "[(0, 'k'), (1, 'o'), (2, 'r'), (3, 'e'), (4, 'a')]\n"
     ]
    }
   ],
   "source": [
    "race = ['저그', '테란', '프로토스']\n",
    "print (enumerate(race))\n",
    "print(list(enumerate(race)))\n",
    "print(list(enumerate('korea')))"
   ]
  },
  {
   "cell_type": "code",
   "execution_count": 2,
   "id": "a4e07790",
   "metadata": {},
   "outputs": [
    {
     "name": "stdout",
     "output_type": "stream",
     "text": [
      "[(0, 'addr'), (1, 'aga'), (2, 'name')]\n",
      "{0: 'addr', 1: 'aga', 2: 'name'}\n"
     ]
    }
   ],
   "source": [
    "test = {\"addr\":\"서울\", \"aga\":23, \"name\":\"hong\"}\n",
    "print(list(enumerate(test))) # 키에 대한 목록을 반환\n",
    "print(dict(enumerate(test))) # 딕셔너리도 가능하지만 보통은 list를 씀"
   ]
  },
  {
   "cell_type": "code",
   "execution_count": 28,
   "id": "c2eba894",
   "metadata": {},
   "outputs": [
    {
     "data": {
      "text/plain": [
       "[(0, '야'), (1, '무'), (2, '호')]"
      ]
     },
     "execution_count": 28,
     "metadata": {},
     "output_type": "execute_result"
    }
   ],
   "source": [
    "test = {'무', '야', '호'} \n",
    "list(enumerate(test)) # 키를 넣지 않으면 임의의 키"
   ]
  },
  {
   "cell_type": "markdown",
   "id": "691d67fc",
   "metadata": {},
   "source": [
    "# 기타 함수 p247\n",
    " - filter() : 리스트의 요소 중 조건에 맞는 것만 고르기\n",
    " - map() : 모든 요소에 대해 변환 함수를 호출하여 새 요소값으로 구성된 리스트 생성"
   ]
  },
  {
   "cell_type": "code",
   "execution_count": 6,
   "id": "7405befb",
   "metadata": {},
   "outputs": [
    {
     "name": "stdout",
     "output_type": "stream",
     "text": [
      "45\n",
      "53\n",
      "[45, 53]\n"
     ]
    }
   ],
   "source": [
    "# filter()\n",
    "def flunk(date):\n",
    "    return date < 60\n",
    "\n",
    "score = [45, 89, 72, 53, 94]\n",
    "for data in filter(flunk, score):\n",
    "    print(data)\n",
    "    \n",
    "print (list(filter(flunk, score)))"
   ]
  },
  {
   "cell_type": "code",
   "execution_count": 5,
   "id": "699f5186",
   "metadata": {},
   "outputs": [
    {
     "name": "stdout",
     "output_type": "stream",
     "text": [
      "22.5\n",
      "44.5\n",
      "36.0\n",
      "26.5\n",
      "47.0\n",
      "[22.5, 44.5, 36.0, 26.5, 47.0]\n"
     ]
    }
   ],
   "source": [
    "# map()\n",
    "def half(s):\n",
    "    return  s/2\n",
    "\n",
    "score = [45, 89, 72, 53, 94]\n",
    "for data in map(half, score):\n",
    "    print(data)\n",
    "\n",
    "print(list(map(half, score)))\n",
    "    "
   ]
  },
  {
   "cell_type": "code",
   "execution_count": 3,
   "id": "58184a47",
   "metadata": {},
   "outputs": [
    {
     "name": "stdout",
     "output_type": "stream",
     "text": [
      "[48100, 67340, 38480, 96200, 76960]\n",
      "주급 :  327,080\n",
      "주급 : 327,080\n"
     ]
    }
   ],
   "source": [
    "# [문제] 일주일 동안 알바를 했을 때 알바비를 계산하시오\n",
    "# map() 사용\n",
    "# 최저시급 : 9620원\n",
    "hourly = 9620\n",
    "def salary(hour):\n",
    "    return hourly * hour\n",
    "\n",
    "work = [5, 7, 4, 10, 8]\n",
    "print(list(map(salary, work)))\n",
    "total = sum(list(map(salary, work))) # work값을 salary로 값을 하나씩 전달\n",
    "print(\"주급 : \", format(total, ','))\n",
    "print(f\"주급 : {total:,}\")"
   ]
  },
  {
   "cell_type": "markdown",
   "id": "9f05551b",
   "metadata": {},
   "source": [
    "# 람다 함수(lambda) p249\n",
    " - 연산이 간단할 때 추천 (데이터 분석(Pandas)에서 많이 사용)\n",
    " - 람다는 수학의 람다대수에서 유래됨\n",
    " - 익명함수로서 단일문으로 생성된 함수\n",
    " - 사용방법\n",
    "     <br> lamdba 매개변수 : 리턴할 수식"
   ]
  },
  {
   "cell_type": "code",
   "execution_count": 103,
   "id": "206f2ad2",
   "metadata": {},
   "outputs": [
    {
     "data": {
      "text/plain": [
       "<function __main__.<lambda>(hour)>"
      ]
     },
     "execution_count": 103,
     "metadata": {},
     "output_type": "execute_result"
    }
   ],
   "source": [
    "# def salary(hour):\n",
    "#     return hourly * hour\n",
    "# 람다함수로 변환\n",
    "lambda hour : 9620 * hour # 함수 이름X(익명함수)"
   ]
  },
  {
   "cell_type": "code",
   "execution_count": 87,
   "id": "0dac52c3",
   "metadata": {},
   "outputs": [
    {
     "name": "stdout",
     "output_type": "stream",
     "text": [
      "30\n",
      "30\n"
     ]
    }
   ],
   "source": [
    "def add(a, b):\n",
    "    return a + b\n",
    "\n",
    "result = add(10, 20)\n",
    "print(result)\n",
    "\n",
    "# 람다함수로 변환\n",
    "result2 = lambda a, b : a + b\n",
    "print(result2(10, 20)) # result2가 함수 이름으로"
   ]
  },
  {
   "cell_type": "code",
   "execution_count": 8,
   "id": "64c5aa96",
   "metadata": {},
   "outputs": [
    {
     "data": {
      "text/plain": [
       "[1, 4, 9, 16]"
      ]
     },
     "execution_count": 8,
     "metadata": {},
     "output_type": "execute_result"
    }
   ],
   "source": [
    "c = [1, 2, 3, 4]\n",
    "f = lambda x : x**2\n",
    "f(2) # 2가 람다 x로 전달\n",
    "\n",
    "list(map(f, c))"
   ]
  },
  {
   "cell_type": "code",
   "execution_count": 7,
   "id": "8d48545b",
   "metadata": {},
   "outputs": [
    {
     "data": {
      "text/plain": [
       "[2, 4, 6, 8, 10]"
      ]
     },
     "execution_count": 7,
     "metadata": {},
     "output_type": "execute_result"
    }
   ],
   "source": [
    "c1 = [1, 2, 3, 4, 5]\n",
    "c2 = [1, 2, 3, 4, 5]\n",
    "\n",
    "f1 = lambda x, y : x + y\n",
    "\n",
    "list(map(f1, c1, c2)) # c1, c2값이 하나씩 x, y로"
   ]
  },
  {
   "cell_type": "code",
   "execution_count": 9,
   "id": "a8725163",
   "metadata": {},
   "outputs": [
    {
     "name": "stdout",
     "output_type": "stream",
     "text": [
      "33\n",
      "55\n",
      "32\n",
      "57\n"
     ]
    }
   ],
   "source": [
    "# 값으로서의 함수\n",
    "# 함수를 바른 변수에 대입 가능\n",
    "def add(a, b):\n",
    "    print(a + b)\n",
    "    \n",
    "add(11, 22) # 함수를 호출\n",
    "plus = add(22, 33) # 반환된 값을 plus에 치환 \n",
    "plus = add #plus가 add의 주소값 받음\n",
    "add(10,22)\n",
    "plus(12,45)"
   ]
  },
  {
   "cell_type": "code",
   "execution_count": 9,
   "id": "cf8c5d9c",
   "metadata": {},
   "outputs": [
    {
     "name": "stdout",
     "output_type": "stream",
     "text": [
      "30\n",
      "-10\n",
      "200\n"
     ]
    }
   ],
   "source": [
    "def add(a, b):\n",
    "    print(a + b)\n",
    "    \n",
    "def minus(a, b):\n",
    "    print(a - b)\n",
    "    \n",
    "def mulitply(a, b):\n",
    "    print(a * b)\n",
    "    \n",
    "# f : 함수명, a, b : 값\n",
    "def calc(f, a, b):\n",
    "    f(a, b)\n",
    "    \n",
    "calc(add, 10, 20)\n",
    "calc(minus, 10, 20)\n",
    "calc(mulitply, 10, 20)"
   ]
  },
  {
   "cell_type": "code",
   "execution_count": 26,
   "id": "0fee1d93",
   "metadata": {},
   "outputs": [
    {
     "name": "stdout",
     "output_type": "stream",
     "text": [
      "1 (2, 3)\n",
      "1 ()\n"
     ]
    }
   ],
   "source": [
    "# 데이터를 튜플로 받을 때\n",
    "# 최소 1개 이상 전달해야만 temp가 동작\n",
    "# 함수의 매개변수에 *을 붙이려면 맨뒤에 붙여야 한다!!!\n",
    "def temp(k, *arg): \n",
    "    print(k, arg)\n",
    "    \n",
    "temp(1, 2, 3)\n",
    "temp(1)\n",
    "# temp() : 최소값인 k가 없어서 오류 # 데이터를 딕셔너리로 받을 때\n",
    "def temp2(**kwargs): \n",
    "    print(kwargs)\n",
    "    \n",
    "temp2(name = '홍길동', age  = 20, phone = '010')\n",
    "temp2('저팔계', age  = 20, phone = '010')"
   ]
  },
  {
   "cell_type": "code",
   "execution_count": 211,
   "id": "413f4e72",
   "metadata": {},
   "outputs": [
    {
     "name": "stdout",
     "output_type": "stream",
     "text": [
      "{'name': '홍길동', 'age': 20, 'phone': '010'}\n"
     ]
    },
    {
     "ename": "TypeError",
     "evalue": "temp2() takes 0 positional arguments but 1 was given",
     "output_type": "error",
     "traceback": [
      "\u001b[1;31m---------------------------------------------------------------------------\u001b[0m",
      "\u001b[1;31mTypeError\u001b[0m                                 Traceback (most recent call last)",
      "\u001b[1;32m~\\AppData\\Local\\Temp\\ipykernel_12816\\4029375621.py\u001b[0m in \u001b[0;36m<module>\u001b[1;34m\u001b[0m\n\u001b[0;32m      4\u001b[0m \u001b[1;33m\u001b[0m\u001b[0m\n\u001b[0;32m      5\u001b[0m \u001b[0mtemp2\u001b[0m\u001b[1;33m(\u001b[0m\u001b[0mname\u001b[0m \u001b[1;33m=\u001b[0m \u001b[1;34m'홍길동'\u001b[0m\u001b[1;33m,\u001b[0m \u001b[0mage\u001b[0m  \u001b[1;33m=\u001b[0m \u001b[1;36m20\u001b[0m\u001b[1;33m,\u001b[0m \u001b[0mphone\u001b[0m \u001b[1;33m=\u001b[0m \u001b[1;34m'010'\u001b[0m\u001b[1;33m)\u001b[0m\u001b[1;33m\u001b[0m\u001b[1;33m\u001b[0m\u001b[0m\n\u001b[1;32m----> 6\u001b[1;33m \u001b[0mtemp2\u001b[0m\u001b[1;33m(\u001b[0m\u001b[1;34m'저팔계'\u001b[0m\u001b[1;33m,\u001b[0m \u001b[0mage\u001b[0m  \u001b[1;33m=\u001b[0m \u001b[1;36m20\u001b[0m\u001b[1;33m,\u001b[0m \u001b[0mphone\u001b[0m \u001b[1;33m=\u001b[0m \u001b[1;34m'010'\u001b[0m\u001b[1;33m)\u001b[0m\u001b[1;33m\u001b[0m\u001b[1;33m\u001b[0m\u001b[0m\n\u001b[0m",
      "\u001b[1;31mTypeError\u001b[0m: temp2() takes 0 positional arguments but 1 was given"
     ]
    }
   ],
   "source": [
    "# 데이터를 딕셔너리로 받을 때\n",
    "def temp2(**kwargs): \n",
    "    print(kwargs)\n",
    "    \n",
    "temp2(name = '홍길동', age  = 20, phone = '010')\n",
    "temp2('저팔계', age  = 20, phone = '010')"
   ]
  },
  {
   "cell_type": "code",
   "execution_count": 214,
   "id": "acd43207",
   "metadata": {},
   "outputs": [
    {
     "name": "stdout",
     "output_type": "stream",
     "text": [
      "{'age': 20, 'phone': '010', 'name': '홍길동'}\n",
      "{'age': 20, 'phone': '010', 'name': '저팔계'}\n"
     ]
    }
   ],
   "source": [
    "# 데이터를 딕셔너리로 받을 때\n",
    "def temp2(name, **kwargs):\n",
    "    kwargs['name'] = name\n",
    "    print(kwargs)\n",
    "    \n",
    "temp2(name = '홍길동', age  = 20, phone = '010')\n",
    "temp2('저팔계', age  = 20, phone = '010')"
   ]
  },
  {
   "cell_type": "raw",
   "id": "a42a1bf1",
   "metadata": {},
   "source": [
    "help(sum)"
   ]
  },
  {
   "cell_type": "code",
   "execution_count": 66,
   "id": "a1ca136f",
   "metadata": {},
   "outputs": [
    {
     "name": "stdout",
     "output_type": "stream",
     "text": [
      "(1, 2, 3, 4)\n",
      "haha\n",
      "True\n"
     ]
    }
   ],
   "source": [
    "# 호출을 이렇게 할경우 이것이 동작되게 하는 함수를 정의하면?\n",
    "def sample(*args, plus = 'sum', check = False): # *args는 튜플로 뒤에는 딕셔너리로 받는다\n",
    "    print(args)\n",
    "    print(plus)\n",
    "    print(check)\n",
    "\n",
    "sample(1, 2, 3, 4, plus = 'haha', check = True) # 키 없이 보내면 *args"
   ]
  },
  {
   "cell_type": "code",
   "execution_count": 67,
   "id": "1b381bd1",
   "metadata": {},
   "outputs": [
    {
     "name": "stdout",
     "output_type": "stream",
     "text": [
      "(1, 2, 3, 4)\n",
      "{'plus': 'haha', 'check': True}\n"
     ]
    }
   ],
   "source": [
    "# 호출을 이렇게 할경우 이것이 동작되게 하는 함수를 정의하면?\n",
    "def sample(*args, **kwargs): # *args는 튜플로 뒤에는 딕셔너리로 받는다\n",
    "    print(args)\n",
    "    print(kwargs)\n",
    "\n",
    "sample(1, 2, 3, 4, plus = 'haha', check = True) # 키 없이 보내면 *args"
   ]
  },
  {
   "cell_type": "raw",
   "id": "051cc166",
   "metadata": {},
   "source": [
    "from sklearn.model_selection import train_test_split\n",
    "\n",
    "# help(train_test_split)\n",
    "train_test_split([1, 2, 3], random_state = 2, stratify = True)"
   ]
  },
  {
   "cell_type": "markdown",
   "id": "7bb56093",
   "metadata": {},
   "source": [
    "# 컬렉션의 사본(*) p251\n",
    "- 리스트의 사본\n",
    "    - varcopy : 기본형 변수는 독립적, 둘 중 하나를 바꾸어도 다른 변수에 영향X\n",
    "    <br><br>\n",
    "    - listcopy : 독립된 사본이 아니라 같은 메모리를 가르킴\n",
    "        - 두 리스트를 독립적인 사본으로 만드려면 copy 메서드로 복사본 생성\n",
    "    - deepcopy : 리스트 안에 리스트가 있으면(2차원 배열이면) deepcopy 메서드 사용!\n",
    "        - import copy"
   ]
  },
  {
   "cell_type": "code",
   "execution_count": 83,
   "id": "0b51e6b4",
   "metadata": {},
   "outputs": [
    {
     "name": "stdout",
     "output_type": "stream",
     "text": [
      "원본 :  [['a', 'b'], 'c', 2]\n",
      "복사본 :  [['a', 'b'], 'c', 2]\n"
     ]
    }
   ],
   "source": [
    "# 얕은 복사\n",
    "list0 = ['a', 'b']\n",
    "list1 = [list0, 1, 2]\n",
    "\n",
    "# 대입\n",
    "temp = list2.copy\n",
    "\n",
    "list2[1] = 'c' # 복사본을 바꿨는데\n",
    "\n",
    "print(\"원본 : \", list2) # 원본도 바뀌어 있음\n",
    "print(\"복사본 : \", temp)"
   ]
  },
  {
   "cell_type": "code",
   "execution_count": 215,
   "id": "77b68350",
   "metadata": {
    "scrolled": true
   },
   "outputs": [
    {
     "name": "stdout",
     "output_type": "stream",
     "text": [
      "원본 :  [['a', 'x'], 1, 2]\n",
      "복사본 :  [['a', 'x'], 1, 2]\n"
     ]
    }
   ],
   "source": [
    "# 얕은 복사 : copy()를 사용했으나 2차원이라 딥카피X!!!\n",
    "list0 = ['a', 'b']\n",
    "list1 = [list0, 1, 2]\n",
    "list2 = list1.copy()\n",
    "\n",
    "list2[0][1] = 'x' # 복사본을 바꿨는데 # 2차원은 deepcopy를 해야 깊은복사\n",
    "\n",
    "print(\"원본 : \", list1) # 원본도 바뀌어 있음\n",
    "print(\"복사본 : \", list2)"
   ]
  },
  {
   "cell_type": "code",
   "execution_count": 80,
   "id": "8782227c",
   "metadata": {},
   "outputs": [
    {
     "name": "stdout",
     "output_type": "stream",
     "text": [
      "원본 :  [['a', 'b'], 1, 2]\n",
      "복사본 :  [['a', 'c'], 1, 2]\n"
     ]
    }
   ],
   "source": [
    "# 깊은 복사\n",
    "# 2차원 일 때 진정한 딥카피가 된다.\n",
    "import copy\n",
    "\n",
    "list0 = ['a', 'b']\n",
    "list1 = [list0, 1, 2]\n",
    "list2 = copy.deepcopy(list1)\n",
    "\n",
    "list2[0][1] = 'x' # 복사본을 바꿨는데\n",
    "print(\"원본 : \", list1) # 원본은 그대로\n",
    "print(\"복사본 : \", list2)"
   ]
  },
  {
   "cell_type": "code",
   "execution_count": 165,
   "id": "c4f1735d",
   "metadata": {},
   "outputs": [
    {
     "name": "stdout",
     "output_type": "stream",
     "text": [
      "a :  [1, 2, 3, 4, 5, 6, 7, 8, 9, 10]\n",
      "b :  [1, 4, 9, 16, 25, 36, 49, 64, 81, 100]\n",
      "a + b :  [2, 6, 12, 20, 30, 42, 56, 72, 90, 110]\n",
      "결과 : [6, 12, 30, 42, 72, 90]\n"
     ]
    }
   ],
   "source": [
    "# [연습문제] p256\n",
    "# 1\n",
    "def find(date):\n",
    "    return date % 6 == 0\n",
    "\n",
    "a = list(range(1,11))\n",
    "\n",
    "a2 = lambda a : a**2\n",
    "b = list(map(a2, a))\n",
    "\n",
    "ab = lambda a, b : a + b\n",
    "c = list(map(ab, a, b))\n",
    "\n",
    "print(\"a : \", a)\n",
    "print(\"b : \", b)\n",
    "print(\"a + b : \", c)\n",
    "print(f\"결과 : {list(filter(find, c))}\")"
   ]
  },
  {
   "cell_type": "code",
   "execution_count": 209,
   "id": "3af63bf8",
   "metadata": {},
   "outputs": [
    {
     "name": "stdout",
     "output_type": "stream",
     "text": [
      "a :  [1, 2, 3, 4, 5, 6, 7, 8, 9, 10]\n",
      "b :  [1, 4, 9, 16, 25, 36, 49, 64, 81, 100]\n",
      "a + b :  [2, 6, 12, 20, 30, 42, 56, 72, 90, 110]\n",
      "결과 :  [6, 12, 30, 42, 72, 90]\n"
     ]
    }
   ],
   "source": [
    "# 1 - v2\n",
    "a = list(range(1,11))\n",
    "f = lambda a : a**2\n",
    "b = list(map(f, a))\n",
    "c = [x + y for x, y in zip(a, b)]\n",
    "d = list(filter(lambda x : x % 6 == 0, c))\n",
    "\n",
    "print(\"a : \", a)\n",
    "print(\"b : \", b)\n",
    "print(\"a + b : \", c)\n",
    "print(\"결과 : \", d)"
   ]
  },
  {
   "cell_type": "code",
   "execution_count": 201,
   "id": "fc502a7d",
   "metadata": {},
   "outputs": [
    {
     "name": "stdout",
     "output_type": "stream",
     "text": [
      "세일전 : [10000, 15000, 30000]\n",
      "세일후 : [8000, 12000, 24000]\n"
     ]
    }
   ],
   "source": [
    "# 2\n",
    "price = [10000, 15000, 30000]\n",
    "sale = lambda price : price * 0.8\n",
    "result = list(map(sale, price))\n",
    "\n",
    "result = [int(i) for i in result] # List Comprehension을 사용해 정수로\n",
    "\n",
    "print(f\"세일전 : {price}\")\n",
    "print(f\"세일후 : {result}\")"
   ]
  },
  {
   "cell_type": "code",
   "execution_count": 204,
   "id": "9f618d8b",
   "metadata": {},
   "outputs": [
    {
     "name": "stdout",
     "output_type": "stream",
     "text": [
      "세일전 : [10000, 15000, 30000]\n",
      "세일후 : [8000, 12000, 24000]\n",
      "세일후 : [8000, 12000, 24000]\n"
     ]
    }
   ],
   "source": [
    "# 2 - v2\n",
    "price = [10000, 15000, 30000]\n",
    "sale_price1 = list(map(lambda y : int(y), list(map(lambda x : x * 0.8, price)))) # lombda?\n",
    "sale_price2 = [int(fee) for fee in list(map(lambda x : x * 0.8, price))]         # List Comprehension\n",
    "\n",
    "print(f\"세일전 : {price}\")\n",
    "print(f\"세일후 : {sale_price1}\")\n",
    "print(f\"세일후 : {sale_price2}\")"
   ]
  }
 ],
 "metadata": {
  "kernelspec": {
   "display_name": "Python 3 (ipykernel)",
   "language": "python",
   "name": "python3"
  },
  "language_info": {
   "codemirror_mode": {
    "name": "ipython",
    "version": 3
   },
   "file_extension": ".py",
   "mimetype": "text/x-python",
   "name": "python",
   "nbconvert_exporter": "python",
   "pygments_lexer": "ipython3",
   "version": "3.9.13"
  }
 },
 "nbformat": 4,
 "nbformat_minor": 5
}
