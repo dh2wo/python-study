{
 "cells": [
  {
   "cell_type": "markdown",
   "id": "8c3c4720",
   "metadata": {},
   "source": [
    "* 2023년 3월 6일"
   ]
  },
  {
   "cell_type": "raw",
   "id": "84a32a04",
   "metadata": {},
   "source": []
  },
  {
   "cell_type": "code",
   "execution_count": null,
   "id": "f5fdb2cd",
   "metadata": {},
   "outputs": [],
   "source": []
  },
  {
   "cell_type": "code",
   "execution_count": null,
   "id": "c6673cc9",
   "metadata": {},
   "outputs": [],
   "source": []
  },
  {
   "cell_type": "markdown",
   "id": "47cffe9c",
   "metadata": {},
   "source": [
    "# 첫번째 코드\n",
    "## 조금 작은 마크다운\n",
    "### 조금 더 작은 마크다운\n",
    "#### 조금 많이 작은 마크다운\n",
    "* 목록1\n",
    "* 목록2\n",
    "    * 안으로 들어란 목록\n",
    "    * 안으로 들어간 목록 2\n",
    "    * 중요한 내용 <u>내용1</u>, 중요한 **내용1**, 중요한 ~~내용1~~\n",
    "    * 글자색 : <span style=\"color:red\">빨강색</span>, <span style=\"color:yellow\">노랑색</span>, <span style=\"color:blue\">파랑색</span>\n",
    "    \n",
    "* <img src=\"https://www.python.org/static/img/python-logo@2x.png\">"
   ]
  },
  {
   "cell_type": "markdown",
   "id": "3fb38276",
   "metadata": {},
   "source": [
    "(1) 셀 선택 모드 (Command Mode)\n",
    "\n",
    " \n",
    "\n",
    "파란색은 셀 선택 상태입니다. (선택상태)\n",
    "\n",
    "[ESC] 또는 [Ctrl] + [m]를 눌러 셀이 아래와 같이 파란색이 된 상태(셀 선택 모드)에서 해당 단축키 누름\n",
    "\n",
    "\n",
    "a : 위에 새로운 셀 추가,\n",
    "b : 아래에 새로운 셀 추가\n",
    "\n",
    "\n",
    "c : 셀 복사하기, \n",
    "v : 셀 붙여넣기, \n",
    "x : 셀 잘라내기, \n",
    "dd : 셀 삭제하기\n",
    "\n",
    "p : 셀 아래에 붙여넣기\n",
    "\n",
    " \n",
    "\n",
    "o : 실행결과 열기/닫기\n",
    "\n",
    "m : Markdown으로 변경\n",
    "\n",
    "y : Code로 변경\n",
    "\n",
    "Shift + m : 선택 셀과 아래 셀과 합치기\n",
    "\n",
    "Ctrl + s 또는 s  : 파일 저장\n",
    "\n",
    "Enter  : 선택 셀의 코드 입력 모드로 돌아가기\n",
    "\n",
    " \n",
    "\n",
    " \n",
    "\n",
    " \n",
    "<br><br>\n",
    "(2) 코드 입력 모드 (Edit Mode)\n",
    "\n",
    " \n",
    "\n",
    "초록색은 코드 입력 가능 상태입니다. (입력상태)\n",
    "\n",
    "[Enter]를 눌러 셀이 아래와 같이 초록색이 된 상태(코드 입력 모드)에서 해당 단축키 누름\n",
    "\n",
    "\n",
    " \n",
    "\n",
    "Ctrl + Enter : 입력 셀 실행 \n",
    "Shift + Enter : 입력 셀 실행 후 아래 셀로 이동 (없으면 새로운 셀 추가)\n",
    "Alt + Enter : 입력영역 실행 후 아래 새로운 영역 추가\n",
    "\n",
    " \n",
    "\n",
    "Ctrl + a : 선택 셀의 코드 전체 선택\n",
    "\n",
    "Ctrl + z : 선택 셀 내 실행 취소\n",
    "\n",
    "Ctrl + y : 선택 셀 내 다시 실행\n",
    "\n",
    "Ctrl + / : 커서 위치 라인 주석처리\n",
    "\n",
    " \n",
    "\n",
    "Shitf + Ctrl + - : 커서 위치에서 셀 둘로 나누기\n",
    "\n",
    " \n"
   ]
  }
 ],
 "metadata": {
  "kernelspec": {
   "display_name": "Python 3 (ipykernel)",
   "language": "python",
   "name": "python3"
  },
  "language_info": {
   "codemirror_mode": {
    "name": "ipython",
    "version": 3
   },
   "file_extension": ".py",
   "mimetype": "text/x-python",
   "name": "python",
   "nbconvert_exporter": "python",
   "pygments_lexer": "ipython3",
   "version": "3.9.13"
  },
  "toc": {
   "base_numbering": 1,
   "nav_menu": {},
   "number_sections": true,
   "sideBar": true,
   "skip_h1_title": false,
   "title_cell": "Table of Contents",
   "title_sidebar": "Contents",
   "toc_cell": false,
   "toc_position": {},
   "toc_section_display": true,
   "toc_window_display": false
  }
 },
 "nbformat": 4,
 "nbformat_minor": 5
}
